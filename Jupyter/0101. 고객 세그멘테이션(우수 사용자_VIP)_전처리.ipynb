{
 "cells": [
  {
   "cell_type": "code",
   "execution_count": 144,
   "metadata": {},
   "outputs": [],
   "source": [
    "import pandas as pd\n",
    "import matplotlib \n",
    "import matplotlib.pyplot as plt\n",
    "import seaborn as sns\n",
    "import missingno as msno\n",
    "import numpy as np\n",
    "import re\n",
    "\n",
    "from datetime import datetime\n",
    "import warnings\n",
    "warnings.filterwarnings('ignore')\n",
    "plt.rcParams['font.family'] = 'Malgun Gothic'\n",
    "\n",
    "from tqdm import tqdm\n",
    "tqdm.pandas()"
   ]
  },
  {
   "cell_type": "code",
   "execution_count": 145,
   "metadata": {},
   "outputs": [],
   "source": [
    "consumer = pd.read_csv(\"../Data/Preprocessed/사용자분석.csv\")\n",
    "charge1 = pd.read_csv(\"../Data/Preprocessed/충전데이터(2304).csv\")\n",
    "charge2 = pd.read_csv(\"../Data/Preprocessed/충전데이터(2312).csv\")"
   ]
  },
  {
   "cell_type": "markdown",
   "metadata": {},
   "source": [
    "## 사용자데이터"
   ]
  },
  {
   "cell_type": "code",
   "execution_count": 147,
   "metadata": {},
   "outputs": [
    {
     "name": "stdout",
     "output_type": "stream",
     "text": [
      "<class 'pandas.core.frame.DataFrame'>\n",
      "RangeIndex: 10569218 entries, 0 to 10569217\n",
      "Data columns (total 24 columns):\n",
      " #   Column      Dtype  \n",
      "---  ------      -----  \n",
      " 0   사용자코드       object \n",
      " 1   연도          object \n",
      " 2   분기          int64  \n",
      " 3   월           object \n",
      " 4   날짜          int64  \n",
      " 5   요일          object \n",
      " 6   시간대명        object \n",
      " 7   성별          object \n",
      " 8   연령대         object \n",
      " 9   나이          float64\n",
      " 10  사용자 주소      object \n",
      " 11  가맹점 사업자 번호  int64  \n",
      " 12  가맹점 사업자 업종  object \n",
      " 13  사용금액        int64  \n",
      " 14  시           object \n",
      " 15  도           object \n",
      " 16  읍/면         object \n",
      " 17  가맹점명        object \n",
      " 18  골목상권분류      object \n",
      " 19  대분류         object \n",
      " 20  중분류         object \n",
      " 21  소분류         object \n",
      " 22  가맹점 주소      object \n",
      " 23  가맹가입일자      object \n",
      "dtypes: float64(1), int64(4), object(19)\n",
      "memory usage: 1.9+ GB\n"
     ]
    }
   ],
   "source": [
    "consumer.info()"
   ]
  },
  {
   "cell_type": "code",
   "execution_count": 149,
   "metadata": {},
   "outputs": [
    {
     "data": {
      "text/plain": [
       "사용자코드              0\n",
       "연도                 0\n",
       "분기                 0\n",
       "월                  0\n",
       "날짜                 0\n",
       "요일                 0\n",
       "시간대명               0\n",
       "성별                 0\n",
       "연령대                0\n",
       "나이                 0\n",
       "사용자 주소             0\n",
       "가맹점 사업자 번호         0\n",
       "가맹점 사업자 업종         0\n",
       "사용금액               0\n",
       "시                  0\n",
       "도                  0\n",
       "읍/면           168047\n",
       "가맹점명               0\n",
       "골목상권분류             0\n",
       "대분류                0\n",
       "중분류                0\n",
       "소분류                0\n",
       "가맹점 주소             0\n",
       "가맹가입일자             0\n",
       "dtype: int64"
      ]
     },
     "execution_count": 149,
     "metadata": {},
     "output_type": "execute_result"
    }
   ],
   "source": [
    "consumer.isna().sum()\n",
    "##고객 군집화에서 사용금액이 중요하기 때문에 NA 제거하지 말기 "
   ]
  },
  {
   "cell_type": "code",
   "execution_count": 150,
   "metadata": {},
   "outputs": [],
   "source": [
    "# #가맹점 주소 잘못된 거 처리 \n",
    "# ##부여읍 아닌 것들 \n",
    "# 가맹점_오류 = ['천호대로', '능동로', '신당2길', '백일헌로']\n",
    "# consumer = consumer.loc[~consumer['가맹점 주소'].isin(가맹점_오류)]\n",
    "\n",
    "# ##가맹점 주소 대체 List\n",
    "# 부여읍 = ['성왕로173번길', '정림로', '부여로', '중앙로13번길', '중앙로', '사비로72번길', '사비로', '사비로100번길', '석탑로', '성왕로328번길', '중앙로5번길','성왕로','신기정로','궁남로', '중앙로5번길', '부장대로', '흑천로', '왕릉로', '신동엽길', '성왕로161번길']\n",
    "# 구룡면 = ['충의로', '흥수로']\n",
    "# 규암면 = ['자온로', '수북로41번길', '백제문로304번길', '규아면', '반산1구', '수북로', '충절로2123번길','충절로']\n",
    "# 임천면 = ['성흥로', '성흥로97번길']\n",
    "# 장암면 = ['의자로1235번길', '의자로', '장암로']\n",
    "# 석성면 = ['선사로']\n",
    "# 홍산면 = ['홍산시장로']\n",
    "# 양화면 = ['입포로48번길']\n",
    "\n",
    "# ##가맹점 주소 대체 데이터 대체 완료 코드\n",
    "# consumer.loc[(consumer['가맹점 주소'].isin(부여읍)),['가맹점 주소']] = '부여읍'\n",
    "# consumer.loc[(consumer['가맹점 주소'].isin(구룡면)),['가맹점 주소']] = '구룡면'\n",
    "# consumer.loc[(consumer['가맹점 주소'].isin(규암면)),['가맹점 주소']] = '규암면'\n",
    "# consumer.loc[(consumer['가맹점 주소'].isin(임천면)),['가맹점 주소']] = '임천면'\n",
    "# consumer.loc[(consumer['가맹점 주소'].isin(장암면)),['가맹점 주소']] = '장암면'\n",
    "# consumer.loc[(consumer['가맹점 주소'].isin(석성면)),['가맹점 주소']] = '석성면'\n",
    "# consumer.loc[(consumer['가맹점 주소'].isin(홍산면)),['가맹점 주소']] = '홍산면'\n",
    "# consumer.loc[(consumer['가맹점 주소'].isin(양화면)),['가맹점 주소']] = '양화면'\n",
    "# print(consumer['가맹점 주소'].unique())\n",
    "\n",
    "# ##NA 데이터 삭제 코드\n",
    "# # consumer = consumer[~consumer['가맹점 주소'].isna()]\n",
    "# # consumer['가맹점 주소'].unique()"
   ]
  },
  {
   "cell_type": "code",
   "execution_count": 151,
   "metadata": {},
   "outputs": [
    {
     "name": "stdout",
     "output_type": "stream",
     "text": [
      "['부여읍' '장암면' '규암면' '은산면' '초촌면' '외산면' '구룡면' '남면' '내산면' '석성면' '홍산면' '옥산면'\n",
      " '양화면' '임천면' '충화면' '세도면']\n",
      "['부여읍' '은산면' '규암면' '홍산면' '임천면' '외산면' '구룡면' '석성면' '내산면' '세도면' '초촌면' '남면'\n",
      " '장암면' '양화면' '옥산면' '충화면']\n"
     ]
    }
   ],
   "source": [
    "#부여군에서 [부여읍, 규암면, 홍산면, 기타]로 분류 \n",
    "print(consumer.loc[consumer['시'] == '부여군']['읍/면'].unique())\n",
    "print(consumer['가맹점 주소'].unique())"
   ]
  },
  {
   "cell_type": "code",
   "execution_count": 152,
   "metadata": {},
   "outputs": [
    {
     "name": "stdout",
     "output_type": "stream",
     "text": [
      "['부여읍' '기타' '규암면' '홍산면']\n",
      "['부여읍' '기타' '규암면' '홍산면']\n"
     ]
    }
   ],
   "source": [
    "def location(data):\n",
    "    values = ['부여읍', '규암면', '홍산면']\n",
    "    condition1 = [\n",
    "        (data['읍/면'] == '부여읍'),\n",
    "        (data['읍/면'] == '규암면'),\n",
    "        (data['읍/면'] == '홍산면')\n",
    "    ] \n",
    "    condition2 = [\n",
    "        (data['가맹점 주소'] == '부여읍'),\n",
    "        (data['가맹점 주소'] == '규암면'),\n",
    "        (data['가맹점 주소'] == '홍산면')\n",
    "    ]\n",
    "    data.loc[:, '읍/면'] = np.select(condition1, values, default='기타')\n",
    "    data.loc[:, '가맹점 주소'] = np.select(condition2, values, default='기타')\n",
    "    return data\n",
    "\n",
    "buyeo = consumer.loc[consumer['시'] == '부여군']\n",
    "consumer = location(buyeo)\n",
    "print(consumer['읍/면'].unique())\n",
    "print(consumer['가맹점 주소'].unique())"
   ]
  },
  {
   "cell_type": "code",
   "execution_count": 153,
   "metadata": {},
   "outputs": [],
   "source": [
    "#날짜 형태로 변환 \n",
    "def convert_date(data):\n",
    "    data.loc[:, '연도'] = data['연도'].str.replace('년', '')\n",
    "    data = data.drop('월', axis=1)\n",
    "    data['날짜'] = pd.to_datetime(data['날짜'], format='%Y%m%d')\n",
    "    data['연월'] = data['날짜'].dt.strftime('%Y-%m')\n",
    "    return data\n",
    "\n",
    "consumer = convert_date(consumer)"
   ]
  },
  {
   "cell_type": "code",
   "execution_count": 154,
   "metadata": {},
   "outputs": [],
   "source": [
    "#연령대 처리\n",
    "tmp = consumer.groupby(['사용자코드'])['연령대'].apply(lambda x : sorted(x)[0]).reset_index()\n",
    "tmp = tmp.rename(columns = {'연령대' : '신규_연령대'})\n",
    "consumer = consumer.merge(tmp, on = ['사용자코드'], how = 'left')\n",
    "consumer = consumer.drop(columns = ['연령대']).rename(columns = {'신규_연령대' : '연령대'})"
   ]
  },
  {
   "cell_type": "code",
   "execution_count": 155,
   "metadata": {},
   "outputs": [],
   "source": [
    "#연도별 데이터프레임 나누기 \n",
    "date_ranges = [('2020-11-01', '2021-10-31'), ('2021-11-01', '2022-10-31'), ('2022-11-01', '2023-10-31')]\n",
    "year_dict = {}\n",
    "for idx, (start_date, end_date) in enumerate(date_ranges):\n",
    "    start_date_dt = pd.to_datetime(start_date)\n",
    "    end_date_dt = pd.to_datetime(end_date)\n",
    "\n",
    "    data_filt = consumer[(consumer['날짜'] >= start_date_dt) & (consumer['날짜'] <= end_date_dt)]\n",
    "    year_dict[f\"df_{idx}\"] = data_filt\n",
    "\n",
    "for key, value in year_dict.items():\n",
    "    globals()[f'{key}'] = value \n",
    "#df_0, df_1, df_2 "
   ]
  },
  {
   "cell_type": "code",
   "execution_count": null,
   "metadata": {},
   "outputs": [],
   "source": []
  },
  {
   "cell_type": "markdown",
   "metadata": {},
   "source": [
    "#### 집계"
   ]
  },
  {
   "cell_type": "markdown",
   "metadata": {},
   "source": [
    "- 연도별 데이터: df_0, df_1, df_2"
   ]
  },
  {
   "cell_type": "code",
   "execution_count": 156,
   "metadata": {},
   "outputs": [],
   "source": [
    "##총 사용금액, 1회당 평균 사용금액 \n",
    "def spend(df):\n",
    "    a = df.groupby(['사용자코드'])['사용금액'].sum().reset_index()\n",
    "    a = a.rename(columns={'사용금액': '총 사용금액'})\n",
    "    b = df.groupby(['사용자코드'])['사용금액'].count().reset_index()\n",
    "    b = b.rename(columns={'사용금액': '사용빈도'})\n",
    "    c = pd.merge(a, b, on='사용자코드')\n",
    "    # c['1회당 평균 사용금액'] = round(c['총 사용금액'] / c['사용빈도'], 2)\n",
    "    d = df.groupby(['사용자코드'])['사용금액'].mean().apply(lambda x : round(x, 4)).reset_index()\n",
    "    d = d.rename(columns = {'사용금액' : '1회당 평균 사용금액'})\n",
    "    c = pd.merge(c, d, on = '사용자코드', how = 'left')\n",
    "    c = c[['사용자코드', '총 사용금액', '사용빈도', '1회당 평균 사용금액']]\n",
    "    return c "
   ]
  },
  {
   "cell_type": "code",
   "execution_count": 157,
   "metadata": {},
   "outputs": [],
   "source": [
    "##다른지역소비비율 \n",
    "def diff_region(df):\n",
    "    total_sum = df.groupby(['사용자코드'])['사용금액'].sum()\n",
    "    total_sum.name = '총사용금액'\n",
    "    total_sum = total_sum.reset_index()\n",
    "\n",
    "    df['동일공간'] = df['읍/면'] == df['가맹점 주소']\n",
    "    same_sum = df.groupby(['사용자코드']).apply(lambda x : x.loc[(x['동일공간'] == True), '사용금액'].sum())\n",
    "    same_sum.name = '동일공간 총사용금액'\n",
    "    same_sum = same_sum.reset_index()\n",
    "\n",
    "    result = same_sum.merge(total_sum, on = ['사용자코드'], how = 'right').fillna(0)\n",
    "    result['다른지역소비비율'] = round(1 - (result['동일공간 총사용금액'] / result['총사용금액']), 4)\n",
    "    return result[['사용자코드', '다른지역소비비율']]"
   ]
  },
  {
   "cell_type": "code",
   "execution_count": 158,
   "metadata": {},
   "outputs": [],
   "source": [
    "##골목상권소비비율 \n",
    "def corner(df1, df2):\n",
    "    # df1: 총사용금액\n",
    "    # df2: 원본데이터(df_0, df_1, df_2)\n",
    "    e = df2.groupby(['사용자코드', '골목상권분류'])['사용금액'].sum().reset_index()\n",
    "    e = e.rename(columns={'사용금액': '총 골목상권소비금액'})\n",
    "    e = e.loc[e['골목상권분류'] == '골목상권']\n",
    "    e = e[['사용자코드', '총 골목상권소비금액']]\n",
    "\n",
    "    f = pd.merge(df1, e, on='사용자코드', how = 'left').fillna(0)\n",
    "    f['골목상권소비비율'] = round(f['총 골목상권소비금액'] / f['총 사용금액'], 4)\n",
    "    return f[['사용자코드', '골목상권소비비율']]"
   ]
  },
  {
   "cell_type": "code",
   "execution_count": 159,
   "metadata": {},
   "outputs": [],
   "source": [
    "def calculate(data):\n",
    "    total_amount = spend(data)                                     #df1\n",
    "    region_amount = diff_region(data)                              #df2\n",
    "    corner_amount = corner(total_amount, data)                     #df3\n",
    "    result = total_amount.merge(region_amount, on='사용자코드', how='left').merge(corner_amount, on='사용자코드', how='left').fillna(0)\n",
    "    return result"
   ]
  },
  {
   "cell_type": "code",
   "execution_count": 160,
   "metadata": {},
   "outputs": [],
   "source": [
    "result0 = calculate(df_0)\n",
    "result1 = calculate(df_1)\n",
    "result2 = calculate(df_2)"
   ]
  },
  {
   "cell_type": "code",
   "execution_count": null,
   "metadata": {},
   "outputs": [],
   "source": [
    "dataframes = [result0, result1, result2]\n",
    "for idx, df in enumerate(dataframes):\n",
    "    df_head = df.head()\n",
    "    print(f\"Df {idx}:\")\n",
    "    print(df_head)"
   ]
  },
  {
   "cell_type": "code",
   "execution_count": null,
   "metadata": {},
   "outputs": [],
   "source": [
    "for idx, df in enumerate(dataframes):\n",
    "    na_sum = df.isna().sum()\n",
    "    print(f\"Df {idx}:\")\n",
    "    print(na_sum)"
   ]
  },
  {
   "cell_type": "code",
   "execution_count": null,
   "metadata": {},
   "outputs": [],
   "source": [
    "for idx, df in enumerate(dataframes):\n",
    "    describe_df = df.describe()\n",
    "    print(f\"Df {idx}:\")\n",
    "    print(describe_df)"
   ]
  },
  {
   "cell_type": "markdown",
   "metadata": {},
   "source": [
    "## 충전데이터 "
   ]
  },
  {
   "cell_type": "code",
   "execution_count": null,
   "metadata": {},
   "outputs": [],
   "source": [
    "charge = pd.concat([charge1, charge2], axis=0)"
   ]
  },
  {
   "cell_type": "code",
   "execution_count": 165,
   "metadata": {},
   "outputs": [],
   "source": [
    "#연도별 데이터프레임 나누기 \n",
    "charge['month'] = pd.to_datetime(charge['month'], format='%Y%m')\n",
    "year_ranges = [('2020-11', '2021-10'), ('2021-11', '2022-10'), ('2022-11', '2023-10')]\n",
    "year_dict = {}\n",
    "for idx, (start_date, end_date) in enumerate(year_ranges):\n",
    "    start_date_dt = pd.to_datetime(start_date)\n",
    "    end_date_dt = pd.to_datetime(end_date)\n",
    "    data_filt = charge[(charge['month'] >= start_date_dt) & (charge['month'] <= end_date_dt)]\n",
    "    year_dict[f\"charge_{idx}\"] = data_filt\n",
    "\n",
    "for key, value in year_dict.items():\n",
    "    globals()[f'{key}'] = value \n",
    "##charge_0, charge_1, charge_2"
   ]
  },
  {
   "cell_type": "code",
   "execution_count": 166,
   "metadata": {},
   "outputs": [],
   "source": [
    "##자가충전비율 \n",
    "def charge_amount(df):\n",
    "    # df['사용자코드'] = df['사용자'] + df['핸드폰번호']\n",
    "    # df_filt = df.loc[~((df['사용자코드'].isin(df.loc[(df['충전금액'] < 0), '사용자코드'])) | \n",
    "    #                         (df['사용자코드'].isin(df.loc[(df['발행(정책+민간)'] < 0), '사용자코드'])) |\n",
    "    #                         (df['사용자코드'].isin(df.loc[(df['인센티브사용'] < 0), '사용자코드'])) |\n",
    "    #                         (df['사용자코드'].isin(df.loc[(df['인센티브적립'] < 0), '사용자코드'])))]\n",
    "    df_merge = df.groupby(['사용자코드'])[['충전금액', '발행(정책+민간)']].sum().reset_index()\n",
    "    df_merge['자가충전비율'] = round(df_merge['충전금액'] / (df_merge['충전금액'] + df_merge['발행(정책+민간)']), 4)\n",
    "    return df_merge[['사용자코드', '자가충전비율']]"
   ]
  },
  {
   "cell_type": "code",
   "execution_count": 167,
   "metadata": {},
   "outputs": [],
   "source": [
    "charge_result0 = charge_amount(charge_0)\n",
    "charge_result1 = charge_amount(charge_1)\n",
    "charge_result2 = charge_amount(charge_2)"
   ]
  },
  {
   "cell_type": "code",
   "execution_count": 168,
   "metadata": {},
   "outputs": [
    {
     "name": "stdout",
     "output_type": "stream",
     "text": [
      "Charge 0:\n",
      "             자가충전비율\n",
      "count  59317.000000\n",
      "mean       0.262351\n",
      "std        0.387505\n",
      "min        0.000000\n",
      "25%        0.000000\n",
      "50%        0.000000\n",
      "75%        0.645200\n",
      "max        1.000000\n",
      "Charge 1:\n",
      "             자가충전비율\n",
      "count  47438.000000\n",
      "mean       0.503777\n",
      "std        0.473894\n",
      "min        0.000000\n",
      "25%        0.000000\n",
      "50%        0.714300\n",
      "75%        1.000000\n",
      "max        1.000000\n",
      "Charge 2:\n",
      "             자가충전비율\n",
      "count  50826.000000\n",
      "mean       0.406394\n",
      "std        0.455868\n",
      "min       -0.000000\n",
      "25%        0.000000\n",
      "50%        0.000000\n",
      "75%        1.000000\n",
      "max        1.204900\n"
     ]
    }
   ],
   "source": [
    "charge_df = [charge_result0, charge_result1, charge_result2]\n",
    "for idx, df in enumerate(charge_df):\n",
    "    describe_df = df.describe()\n",
    "    print(f\"Charge {idx}:\")\n",
    "    print(describe_df)"
   ]
  },
  {
   "cell_type": "markdown",
   "metadata": {},
   "source": [
    "## 사용자분석(+가맹점 분류) + 충전내역 \n",
    "- 사용자분석+가맹점 = `result0`, `result1`, `result2`\n",
    "- 충전내역 = `charge_result0`, `charge_result1`, `charge_result2`"
   ]
  },
  {
   "cell_type": "code",
   "execution_count": 169,
   "metadata": {},
   "outputs": [],
   "source": [
    "##원 데이터에서 다시 병합할 것 \n",
    "tomerge = consumer[['사용자코드', '성별', '연령대', '읍/면']].drop_duplicates()\n",
    "\n",
    "def final(result, charge_result, tomerge):\n",
    "    result_merge = result.merge(charge_result, on='사용자코드', how='left').merge(tomerge, on='사용자코드', how='left').fillna(0)\n",
    "    return result_merge"
   ]
  },
  {
   "cell_type": "code",
   "execution_count": 170,
   "metadata": {},
   "outputs": [],
   "source": [
    "result_merge0 = final(result0, charge_result0, tomerge)\n",
    "result_merge1 = final(result1, charge_result1, tomerge)\n",
    "result_merge2 = final(result2, charge_result2, tomerge)"
   ]
  },
  {
   "cell_type": "code",
   "execution_count": 171,
   "metadata": {},
   "outputs": [],
   "source": [
    "result_merge0['기간'] = '2020'\n",
    "result_merge1['기간'] = '2021'\n",
    "result_merge2['기간'] = '2022'\n",
    "\n",
    "result_merge = pd.concat([result_merge0, result_merge1, result_merge2], axis=0)"
   ]
  },
  {
   "cell_type": "code",
   "execution_count": 172,
   "metadata": {},
   "outputs": [
    {
     "data": {
      "text/plain": [
       "128524"
      ]
     },
     "execution_count": 172,
     "metadata": {},
     "output_type": "execute_result"
    }
   ],
   "source": [
    "len(result_merge0) + len(result_merge1) + len(result_merge2)"
   ]
  },
  {
   "cell_type": "code",
   "execution_count": 174,
   "metadata": {},
   "outputs": [],
   "source": [
    "result_merge.to_csv(\"../Data/Preprocessed/사용자_충전_가맹점분류.csv\", index=False, encoding='cp949')"
   ]
  },
  {
   "cell_type": "code",
   "execution_count": null,
   "metadata": {},
   "outputs": [],
   "source": []
  }
 ],
 "metadata": {
  "kernelspec": {
   "display_name": "buyeogun",
   "language": "python",
   "name": "python3"
  },
  "language_info": {
   "codemirror_mode": {
    "name": "ipython",
    "version": 3
   },
   "file_extension": ".py",
   "mimetype": "text/x-python",
   "name": "python",
   "nbconvert_exporter": "python",
   "pygments_lexer": "ipython3",
   "version": "3.11.4"
  }
 },
 "nbformat": 4,
 "nbformat_minor": 2
}
