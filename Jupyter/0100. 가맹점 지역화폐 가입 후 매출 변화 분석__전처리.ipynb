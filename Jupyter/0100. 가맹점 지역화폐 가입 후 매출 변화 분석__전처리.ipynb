{
 "cells": [
  {
   "cell_type": "code",
   "execution_count": 2,
   "metadata": {},
   "outputs": [],
   "source": [
    "import os\n",
    "import pandas as pd\n",
    "import numpy as np\n",
    "import re\n",
    "\n",
    "from tqdm import tqdm\n",
    "tqdm.pandas()"
   ]
  },
  {
   "cell_type": "code",
   "execution_count": 17,
   "metadata": {},
   "outputs": [],
   "source": [
    "# 정책발행 파악\n",
    "# 매월 발행(정책+민간) 진행\n",
    "path = '../Data/Origin/20231208_사용자충전데이터.xlsx'\n",
    "\n",
    "charge_df_origin1 = pd.read_excel(path, sheet_name = 'Result 1')\n",
    "charge_df_origin1 = charge_df_origin1.rename(columns = {'month' : '기준연월'})\n",
    "charge_df_origin2 = pd.read_excel(path, sheet_name = 'Result 2')\n",
    "charge_df_origin2 = charge_df_origin2.rename(columns = {'month' : '기준연월'})\n",
    "\n",
    "charge_df_origin = pd.concat([charge_df_origin1, charge_df_origin2], axis = 0)"
   ]
  },
  {
   "cell_type": "code",
   "execution_count": 6,
   "metadata": {},
   "outputs": [
    {
     "data": {
      "text/html": [
       "<div>\n",
       "<style scoped>\n",
       "    .dataframe tbody tr th:only-of-type {\n",
       "        vertical-align: middle;\n",
       "    }\n",
       "\n",
       "    .dataframe tbody tr th {\n",
       "        vertical-align: top;\n",
       "    }\n",
       "\n",
       "    .dataframe thead th {\n",
       "        text-align: right;\n",
       "    }\n",
       "</style>\n",
       "<table border=\"1\" class=\"dataframe\">\n",
       "  <thead>\n",
       "    <tr style=\"text-align: right;\">\n",
       "      <th></th>\n",
       "      <th>회원구분</th>\n",
       "      <th>충전금액</th>\n",
       "      <th>발행(정책+민간)</th>\n",
       "      <th>인센티브적립</th>\n",
       "      <th>인센티브사용</th>\n",
       "      <th>month</th>\n",
       "      <th>사용자코드</th>\n",
       "    </tr>\n",
       "  </thead>\n",
       "  <tbody>\n",
       "    <tr>\n",
       "      <th>0</th>\n",
       "      <td>일반사용자</td>\n",
       "      <td>1000000</td>\n",
       "      <td>0</td>\n",
       "      <td>100000</td>\n",
       "      <td>0</td>\n",
       "      <td>201912</td>\n",
       "      <td>이윤주01058024525</td>\n",
       "    </tr>\n",
       "    <tr>\n",
       "      <th>1</th>\n",
       "      <td>가맹점주</td>\n",
       "      <td>53000</td>\n",
       "      <td>0</td>\n",
       "      <td>50</td>\n",
       "      <td>0</td>\n",
       "      <td>201912</td>\n",
       "      <td>이용인01023849506</td>\n",
       "    </tr>\n",
       "  </tbody>\n",
       "</table>\n",
       "</div>"
      ],
      "text/plain": [
       "    회원구분     충전금액  발행(정책+민간)  인센티브적립  인센티브사용   month           사용자코드\n",
       "0  일반사용자  1000000          0  100000       0  201912  이윤주01058024525\n",
       "1   가맹점주    53000          0      50       0  201912  이용인01023849506"
      ]
     },
     "execution_count": 6,
     "metadata": {},
     "output_type": "execute_result"
    }
   ],
   "source": [
    "charge_df_origin.head(2)"
   ]
  },
  {
   "cell_type": "code",
   "execution_count": 4,
   "metadata": {},
   "outputs": [
    {
     "data": {
      "text/plain": [
       "array(['일반 사용자', '탈퇴한 사용자', '여성바우처', '기프트카드', '벼상토지원'], dtype=object)"
      ]
     },
     "execution_count": 4,
     "metadata": {},
     "output_type": "execute_result"
    }
   ],
   "source": [
    "charge_df_origin['구분'].unique()"
   ]
  },
  {
   "cell_type": "code",
   "execution_count": 5,
   "metadata": {},
   "outputs": [
    {
     "data": {
      "text/html": [
       "<div>\n",
       "<style scoped>\n",
       "    .dataframe tbody tr th:only-of-type {\n",
       "        vertical-align: middle;\n",
       "    }\n",
       "\n",
       "    .dataframe tbody tr th {\n",
       "        vertical-align: top;\n",
       "    }\n",
       "\n",
       "    .dataframe thead th {\n",
       "        text-align: right;\n",
       "    }\n",
       "</style>\n",
       "<table border=\"1\" class=\"dataframe\">\n",
       "  <thead>\n",
       "    <tr style=\"text-align: right;\">\n",
       "      <th></th>\n",
       "      <th>기준연월</th>\n",
       "      <th>발행(정책+민간)</th>\n",
       "    </tr>\n",
       "  </thead>\n",
       "  <tbody>\n",
       "    <tr>\n",
       "      <th>0</th>\n",
       "      <td>202104</td>\n",
       "      <td>1.142140e+09</td>\n",
       "    </tr>\n",
       "    <tr>\n",
       "      <th>1</th>\n",
       "      <td>202105</td>\n",
       "      <td>2.928340e+06</td>\n",
       "    </tr>\n",
       "  </tbody>\n",
       "</table>\n",
       "</div>"
      ],
      "text/plain": [
       "     기준연월     발행(정책+민간)\n",
       "0  202104  1.142140e+09\n",
       "1  202105  2.928340e+06"
      ]
     },
     "execution_count": 5,
     "metadata": {},
     "output_type": "execute_result"
    }
   ],
   "source": [
    "charge_df = charge_df_origin.copy()\n",
    "charge_df = charge_df.loc[(charge_df['구분'] == '여성바우처') & (charge_df['발행(정책+민간)'] != 0)]\n",
    "charge_df = charge_df.groupby(['기준연월'])['발행(정책+민간)'].sum().reset_index()\n",
    "\n",
    "charge_df.head(2)"
   ]
  },
  {
   "cell_type": "code",
   "execution_count": 6,
   "metadata": {},
   "outputs": [
    {
     "data": {
      "text/html": [
       "<div>\n",
       "<style scoped>\n",
       "    .dataframe tbody tr th:only-of-type {\n",
       "        vertical-align: middle;\n",
       "    }\n",
       "\n",
       "    .dataframe tbody tr th {\n",
       "        vertical-align: top;\n",
       "    }\n",
       "\n",
       "    .dataframe thead th {\n",
       "        text-align: right;\n",
       "    }\n",
       "</style>\n",
       "<table border=\"1\" class=\"dataframe\">\n",
       "  <thead>\n",
       "    <tr style=\"text-align: right;\">\n",
       "      <th></th>\n",
       "      <th>기준연월</th>\n",
       "      <th>발행(정책+민간)</th>\n",
       "    </tr>\n",
       "  </thead>\n",
       "  <tbody>\n",
       "  </tbody>\n",
       "</table>\n",
       "</div>"
      ],
      "text/plain": [
       "Empty DataFrame\n",
       "Columns: [기준연월, 발행(정책+민간)]\n",
       "Index: []"
      ]
     },
     "execution_count": 6,
     "metadata": {},
     "output_type": "execute_result"
    }
   ],
   "source": [
    "charge_df = charge_df_origin.copy()\n",
    "charge_df = charge_df.loc[(charge_df['구분'] == '기프트카드') & (charge_df['발행(정책+민간)'] != 0)]\n",
    "charge_df = charge_df.groupby(['기준연월'])['발행(정책+민간)'].sum().reset_index()\n",
    "\n",
    "charge_df.head(2)"
   ]
  },
  {
   "cell_type": "code",
   "execution_count": 7,
   "metadata": {},
   "outputs": [
    {
     "data": {
      "text/html": [
       "<div>\n",
       "<style scoped>\n",
       "    .dataframe tbody tr th:only-of-type {\n",
       "        vertical-align: middle;\n",
       "    }\n",
       "\n",
       "    .dataframe tbody tr th {\n",
       "        vertical-align: top;\n",
       "    }\n",
       "\n",
       "    .dataframe thead th {\n",
       "        text-align: right;\n",
       "    }\n",
       "</style>\n",
       "<table border=\"1\" class=\"dataframe\">\n",
       "  <thead>\n",
       "    <tr style=\"text-align: right;\">\n",
       "      <th></th>\n",
       "      <th>기준연월</th>\n",
       "      <th>발행(정책+민간)</th>\n",
       "    </tr>\n",
       "  </thead>\n",
       "  <tbody>\n",
       "    <tr>\n",
       "      <th>0</th>\n",
       "      <td>202302</td>\n",
       "      <td>1.538262e+09</td>\n",
       "    </tr>\n",
       "    <tr>\n",
       "      <th>1</th>\n",
       "      <td>202303</td>\n",
       "      <td>7.989000e+06</td>\n",
       "    </tr>\n",
       "  </tbody>\n",
       "</table>\n",
       "</div>"
      ],
      "text/plain": [
       "     기준연월     발행(정책+민간)\n",
       "0  202302  1.538262e+09\n",
       "1  202303  7.989000e+06"
      ]
     },
     "execution_count": 7,
     "metadata": {},
     "output_type": "execute_result"
    }
   ],
   "source": [
    "charge_df = charge_df_origin.copy()\n",
    "charge_df = charge_df.loc[(charge_df['구분'] == '벼상토지원') & (charge_df['발행(정책+민간)'] != 0)]\n",
    "charge_df = charge_df.groupby(['기준연월'])['발행(정책+민간)'].sum().reset_index()\n",
    "\n",
    "charge_df.head(2)"
   ]
  },
  {
   "cell_type": "code",
   "execution_count": 8,
   "metadata": {},
   "outputs": [
    {
     "data": {
      "text/html": [
       "<div>\n",
       "<style scoped>\n",
       "    .dataframe tbody tr th:only-of-type {\n",
       "        vertical-align: middle;\n",
       "    }\n",
       "\n",
       "    .dataframe tbody tr th {\n",
       "        vertical-align: top;\n",
       "    }\n",
       "\n",
       "    .dataframe thead th {\n",
       "        text-align: right;\n",
       "    }\n",
       "</style>\n",
       "<table border=\"1\" class=\"dataframe\">\n",
       "  <thead>\n",
       "    <tr style=\"text-align: right;\">\n",
       "      <th></th>\n",
       "      <th>기준연월</th>\n",
       "      <th>발행(정책+민간)</th>\n",
       "    </tr>\n",
       "  </thead>\n",
       "  <tbody>\n",
       "    <tr>\n",
       "      <th>0</th>\n",
       "      <td>202011</td>\n",
       "      <td>3.429700e+07</td>\n",
       "    </tr>\n",
       "    <tr>\n",
       "      <th>1</th>\n",
       "      <td>202012</td>\n",
       "      <td>4.774614e+09</td>\n",
       "    </tr>\n",
       "  </tbody>\n",
       "</table>\n",
       "</div>"
      ],
      "text/plain": [
       "     기준연월     발행(정책+민간)\n",
       "0  202011  3.429700e+07\n",
       "1  202012  4.774614e+09"
      ]
     },
     "execution_count": 8,
     "metadata": {},
     "output_type": "execute_result"
    }
   ],
   "source": [
    "charge_df = charge_df_origin.copy()\n",
    "charge_df = charge_df.loc[(charge_df['구분'] == '일반 사용자') & (charge_df['발행(정책+민간)'] != 0)]\n",
    "charge_df = charge_df.groupby(['기준연월'])['발행(정책+민간)'].sum().reset_index()\n",
    "\n",
    "charge_df.head(2)"
   ]
  },
  {
   "cell_type": "code",
   "execution_count": 27,
   "metadata": {},
   "outputs": [],
   "source": [
    "charge_df_origin = charge_df_origin.groupby(['기준연월'])['발행(정책+민간)'].sum().reset_index()\n",
    "charge_df_origin = charge_df_origin.rename(columns = {'발행(정책+민간)' : '가입월 발행'})\n",
    "charge_df_origin['가입 -1 월 발행'] = charge_df_origin['가입월 발행'].shift(1)\n",
    "charge_df_origin['가입 -2 월 발행'] = charge_df_origin['가입월 발행'].shift(2)\n",
    "charge_df_origin['가입 -3 월 발행'] = charge_df_origin['가입월 발행'].shift(3)\n",
    "charge_df_origin['가입 -4 월 발행'] = charge_df_origin['가입월 발행'].shift(4)"
   ]
  },
  {
   "cell_type": "code",
   "execution_count": null,
   "metadata": {},
   "outputs": [],
   "source": []
  },
  {
   "cell_type": "code",
   "execution_count": 10,
   "metadata": {},
   "outputs": [],
   "source": [
    "# 가맹후 6개월 간의 매출 증감율 파악"
   ]
  },
  {
   "cell_type": "code",
   "execution_count": 32,
   "metadata": {},
   "outputs": [],
   "source": [
    "path = '../Data/Preprocessed/순환분석.csv'\n",
    "\n",
    "df_franchise_origin = pd.read_csv(path)\n",
    "\n",
    "basic_columns = ['가맹점 사업자 번호', '가맹점 업종', '가맹점 가맹점명', '가맹점 골목상권분류', '가맹점 대분류', '가맹점 중분류', '가맹점 소분류', '가맹점 가맹점 주소', '가맹점 가맹가입일자']\n",
    "tmp01 = df_franchise_origin[basic_columns]\n",
    "tmp02 = df_franchise_origin[['사용자 사업자 번호', '사용자 업종', '사용자 가맹점명', '사용자 골목상권분류', '사용자 대분류', '사용자 중분류', '사용자 소분류', '사용자 가맹점 주소', '사용자 가맹가입일자']]\n",
    "\n",
    "for column01, column02 in zip(sorted(tmp01.columns.tolist()), sorted(tmp02.columns.tolist())):\n",
    "    tmp02 = tmp02.rename(columns = {column02 : column01})\n",
    "\n",
    "tmp01 = tmp01.drop_duplicates()\n",
    "tmp02 = tmp02.drop_duplicates()\n",
    "df_franchise = pd.concat([tmp01, tmp02], axis = 0, ignore_index = True)\n",
    "df_franchise = df_franchise.loc[(df_franchise['가맹점 사업자 번호'] != '삭제된가맹점')]"
   ]
  },
  {
   "cell_type": "code",
   "execution_count": 33,
   "metadata": {},
   "outputs": [
    {
     "data": {
      "text/plain": [
       "Index(['가맹점 사업자 번호', '가맹점 업종', '가맹점 가맹점명', '가맹점 골목상권분류', '가맹점 대분류', '가맹점 중분류',\n",
       "       '가맹점 소분류', '가맹점 가맹점 주소', '가맹점 가맹가입일자'],\n",
       "      dtype='object')"
      ]
     },
     "execution_count": 33,
     "metadata": {},
     "output_type": "execute_result"
    }
   ],
   "source": [
    "df_franchise.columns"
   ]
  },
  {
   "cell_type": "code",
   "execution_count": null,
   "metadata": {},
   "outputs": [],
   "source": []
  },
  {
   "cell_type": "code",
   "execution_count": 34,
   "metadata": {},
   "outputs": [
    {
     "name": "stderr",
     "output_type": "stream",
     "text": [
      "100%|██████████| 10569218/10569218 [00:10<00:00, 1047176.60it/s]\n"
     ]
    }
   ],
   "source": [
    "path = '../Data/Preprocessed/사용자분석.csv'\n",
    "\n",
    "df_sales_origin = pd.read_csv(path)\n",
    "\n",
    "df_sales_origin = df_sales_origin.drop(columns = ['월', '요일'])\n",
    "df_sales_origin['날짜'] = pd.to_datetime(df_sales_origin['날짜'], format = '%Y%m%d')\n",
    "df_sales_origin = df_sales_origin.loc[df_sales_origin['가맹점 주소'].str[-1].isin(['면', '읍'])]\n",
    "df_sales_origin = df_sales_origin.merge(df_franchise, on = '가맹점 사업자 번호', how = 'left')\n",
    "df_sales_origin['가맹점 읍면 구분'] = df_sales_origin['가맹점 주소'].progress_apply(lambda x : x if x in ['부여읍', '홍산면', '규암면'] else '기타')\n",
    "# df_sales_origin = df_sales_origin.loc[(df_sales_origin['가맹점 대분류'] != '기타')]"
   ]
  },
  {
   "cell_type": "code",
   "execution_count": 43,
   "metadata": {},
   "outputs": [],
   "source": [
    "basic_columns = ['가맹점 사업자 번호', '가맹점명', '가맹점 읍면 구분', '가맹점 주소', '골목상권분류', '대분류', '중분류', '소분류']\n",
    "\n",
    "basic_df = df_sales_origin[basic_columns + ['가맹점 가맹가입일자']].drop_duplicates()\n",
    "basic_df = basic_df.loc[(basic_df.isnull().any(axis = 1) != True)]"
   ]
  },
  {
   "cell_type": "code",
   "execution_count": 44,
   "metadata": {},
   "outputs": [],
   "source": [
    "basic_df['가맹점 가맹가입일자'] = pd.to_datetime(basic_df['가맹점 가맹가입일자'], format = '%Y-%m-%d')\n",
    "\n",
    "\n",
    "def month_plus(date):\n",
    "    if date.day > 28:\n",
    "        date = date.replace(day = 28)\n",
    "\n",
    "    try:\n",
    "        date = date.replace(month = date.month + 1)\n",
    "    except:\n",
    "        date = date.replace(year = date.year + 1, month = 1)\n",
    "    date = date.replace(day = 1)\n",
    "\n",
    "    return date\n",
    "\n",
    "basic_df['가맹 후 첫 달의 날짜'] = basic_df['가맹점 가맹가입일자'].apply(lambda x : month_plus(x))\n",
    "basic_df['첫 달의 첫 날짜 사이의 시간'] = basic_df['가맹 후 첫 달의 날짜'] - basic_df['가맹점 가맹가입일자']\n",
    "basic_df['가맹 첫 달의 영업정도'] = basic_df.apply(lambda x : round((x['첫 달의 첫 날짜 사이의 시간']) /\n",
    "                                                                  (x['가맹 후 첫 달의 날짜'] - x['가맹점 가맹가입일자'].replace(day = 1)) * 100, 2), axis = 1)\n",
    "basic_df['첫 달 추가집계 여부'] = basic_df['가맹 첫 달의 영업정도'] >= 50\n"
   ]
  },
  {
   "cell_type": "code",
   "execution_count": 47,
   "metadata": {},
   "outputs": [
    {
     "data": {
      "text/plain": [
       "Index(['가맹점 사업자 번호', '가맹점명', '가맹점 읍면 구분', '가맹점 주소', '골목상권분류', '대분류', '중분류',\n",
       "       '소분류', '가맹점 가맹가입일자', '가맹 후 첫 달의 날짜', '첫 달의 첫 날짜 사이의 시간', '가맹 첫 달의 영업정도',\n",
       "       '첫 달 추가집계 여부'],\n",
       "      dtype='object')"
      ]
     },
     "execution_count": 47,
     "metadata": {},
     "output_type": "execute_result"
    }
   ],
   "source": [
    "basic_df.columns"
   ]
  },
  {
   "cell_type": "code",
   "execution_count": 48,
   "metadata": {},
   "outputs": [
    {
     "name": "stderr",
     "output_type": "stream",
     "text": [
      "2418it [25:21,  1.59it/s]\n"
     ]
    }
   ],
   "source": [
    "basic_df['첫 달 집계'] = np.nan\n",
    "for i in range(1, 7):\n",
    "    basic_df[f'임시__{i} 달의 매출'] = np.nan\n",
    "\n",
    "count_zero_list = []\n",
    "for k, (i, row) in enumerate(tqdm(basic_df.iterrows())):\n",
    "    tmp_df = df_sales_origin.loc[(df_sales_origin['가맹점 사업자 번호'] == row['가맹점 사업자 번호']), :]\n",
    "    first_df = tmp_df.loc[(tmp_df['가맹점 가맹가입일자'] <= tmp_df['날짜']) & (tmp_df['날짜'] < row['가맹 후 첫 달의 날짜']), :]\n",
    "    remain_df = tmp_df.loc[(row['가맹 후 첫 달의 날짜'] <= tmp_df['날짜']), :]    \n",
    "    \n",
    "    first_real_sum = first_df['사용금액'].sum()\n",
    "    remain_df = remain_df.set_index('날짜')\n",
    "    \n",
    "    first_date_year = row['가맹점 가맹가입일자'].year\n",
    "    first_date_month = row['가맹점 가맹가입일자'].month\n",
    "\n",
    "    if first_date_month + 7 > 12:\n",
    "        tmp_year = first_date_year + 1\n",
    "        tmp_month = (first_date_month + 7) % 12\n",
    "\n",
    "    else:\n",
    "        tmp_year = first_date_year\n",
    "        tmp_month = first_date_month + 7\n",
    "    \n",
    "\n",
    "    tmp_date = pd.to_datetime(str(tmp_year).zfill(4) + str(tmp_month).zfill(2) + '01', format = '%Y%m%d')  \n",
    "    remain_df = remain_df.resample('1m')['사용금액'].sum()\n",
    "    remain_df = remain_df.loc[:tmp_date]\n",
    "\n",
    "    count_value = len(remain_df)\n",
    "    if len(remain_df) == 0:\n",
    "        basic_df.loc[i, basic_df.columns.tolist()[-6 : ]] = [np.nan for _ in range(6)]\n",
    "    else:\n",
    "        basic_df.loc[i, basic_df.columns.tolist()[-6 : ]] = remain_df.values.tolist() + [np.nan] * (6 - count_value)\n",
    "\n",
    "    basic_df.loc[i, '첫 달 집계'] = first_real_sum\n",
    "\n",
    "# basic_df.to_csv('../Data/Preprocessed/가맹효과.csv', encoding = 'utf-8-sig', index = False)"
   ]
  },
  {
   "cell_type": "code",
   "execution_count": null,
   "metadata": {},
   "outputs": [],
   "source": []
  },
  {
   "cell_type": "code",
   "execution_count": 64,
   "metadata": {},
   "outputs": [
    {
     "name": "stderr",
     "output_type": "stream",
     "text": [
      "100%|██████████| 2418/2418 [00:00<00:00, 79546.86it/s]\n"
     ]
    }
   ],
   "source": [
    "basic_df = pd.read_csv('../Data/Preprocessed/가맹효과.csv', encoding = 'utf-8-sig')\n",
    "\n",
    "basic_df.loc[:, basic_df.columns[-7:]] = basic_df.loc[:, basic_df.columns[-7:]].fillna(0).values\n",
    "basic_df['수정__첫 달 집계'] = basic_df.progress_apply(lambda x : round(x['첫 달 집계'] * 100 / x['가맹 첫 달의 영업정도']), axis = 1)\n",
    "basic_df = basic_df[basic_df.columns[:-7].tolist() + [basic_df.columns[-1]] + basic_df.columns[-7:-1].tolist()]"
   ]
  },
  {
   "cell_type": "code",
   "execution_count": 66,
   "metadata": {},
   "outputs": [
    {
     "data": {
      "text/plain": [
       "Index(['가맹점 사업자 번호', '가맹점명', '가맹점 읍면 구분', '가맹점 주소', '골목상권분류', '대분류', '중분류',\n",
       "       '소분류', '가맹점 가맹가입일자', '가맹 후 첫 달의 날짜', '첫 달의 첫 날짜 사이의 시간', '가맹 첫 달의 영업정도',\n",
       "       '첫 달 추가집계 여부', '첫 달 집계', '수정__첫 달 집계', '임시__1 달의 매출', '임시__2 달의 매출',\n",
       "       '임시__3 달의 매출', '임시__4 달의 매출', '임시__5 달의 매출', '임시__6 달의 매출'],\n",
       "      dtype='object')"
      ]
     },
     "execution_count": 66,
     "metadata": {},
     "output_type": "execute_result"
    }
   ],
   "source": [
    "basic_df.columns"
   ]
  },
  {
   "cell_type": "code",
   "execution_count": 67,
   "metadata": {},
   "outputs": [
    {
     "name": "stderr",
     "output_type": "stream",
     "text": [
      "0it [00:00, ?it/s]"
     ]
    },
    {
     "name": "stderr",
     "output_type": "stream",
     "text": [
      "2418it [00:48, 49.68it/s]\n"
     ]
    }
   ],
   "source": [
    "sum_columns = basic_df.columns[-7:]\n",
    "last_columns = basic_df.columns[:9]\n",
    "\n",
    "save_path = '../Data/Preprocessed/가맹효과_데이터.csv'\n",
    "if os.path.isfile(save_path):\n",
    "    os.remove(save_path)\n",
    "\n",
    "pd.DataFrame(columns = last_columns.to_list() + sum_columns.to_list() + ['가입월 발행', '가입 -1 월 발행', '가입 -2 월 발행', '가입 -3 월 발행', '가입 -4 월 발행']).to_csv(encoding = 'utf-8-sig', escapechar = '\\\\')\n",
    "\n",
    "for i, row in tqdm(basic_df.iterrows()):\n",
    "    tmp = row[sum_columns]\n",
    "    tmp.name = '매출액'\n",
    "    tmp = tmp.to_frame()\n",
    "    tmp['전달_매출'] = tmp['매출액'].shift(1)\n",
    "    tmp['데이터 적합성 여부'] = (tmp[['매출액', '전달_매출']] != 0).all(axis = 1)\n",
    "    tmp['매출액 변화'] = tmp['매출액'] - tmp['전달_매출']\n",
    "    tmp['매출액 변화율'] = tmp.apply(lambda x : np.nan if (x['데이터 적합성 여부'] == False) |\n",
    "                                                         (pd.isnull(x['전달_매출']) == True) else round(x['매출액 변화'] / x['전달_매출'] * 100, 2), axis = 1)\n",
    "\n",
    "    tmp =  tmp.iloc[1:]\n",
    "    tmp['구분'] = [f'{i + 1}달 ~ {i + 2}달' for i in range(0, 6)]\n",
    "\n",
    "    standard_date = row['가맹점 가맹가입일자'].replace('-', '')\n",
    "    standard_year_v = int(standard_date[:4])\n",
    "    standard_month_v = int(standard_date[4:6])\n",
    "\n",
    "    for l, (k, row_k) in enumerate(tmp.iterrows()):\n",
    "        standard_month = standard_month_v + l\n",
    "        \n",
    "        if standard_month > 12:\n",
    "            standard_month = standard_month % 12\n",
    "            standard_year = standard_year_v + 1\n",
    "        else:\n",
    "            standard_year = standard_year_v\n",
    "\n",
    "        publish = charge_df_origin.loc[(charge_df_origin['기준연월'] == int(str(standard_year) + str(standard_month).zfill(2))), charge_df_origin.columns[1:]]\n",
    "        publish.index = range(len(publish))\n",
    "\n",
    "        concat_row = pd.concat([row[last_columns], row_k]).to_frame().T\n",
    "        concat_row.index = range(len(concat_row))\n",
    "        concat_row = pd.concat([concat_row, publish], axis = 1)\n",
    "\n",
    "        concat_row.to_csv(save_path, index = False, encoding = 'utf-8-sig', escapechar = '\\\\', mode = 'a', header = None)"
   ]
  },
  {
   "cell_type": "code",
   "execution_count": null,
   "metadata": {},
   "outputs": [],
   "source": []
  },
  {
   "cell_type": "code",
   "execution_count": null,
   "metadata": {},
   "outputs": [],
   "source": []
  }
 ],
 "metadata": {
  "kernelspec": {
   "display_name": "Buyeo-gunLocalCurrency",
   "language": "python",
   "name": "python3"
  },
  "language_info": {
   "codemirror_mode": {
    "name": "ipython",
    "version": 3
   },
   "file_extension": ".py",
   "mimetype": "text/x-python",
   "name": "python",
   "nbconvert_exporter": "python",
   "pygments_lexer": "ipython3",
   "version": "3.10.13"
  }
 },
 "nbformat": 4,
 "nbformat_minor": 2
}
