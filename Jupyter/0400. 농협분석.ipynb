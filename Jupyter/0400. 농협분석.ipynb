{
 "cells": [
  {
   "cell_type": "code",
   "execution_count": 2,
   "metadata": {},
   "outputs": [],
   "source": [
    "import pandas as pd #Pandas 모듈 불러오기\n",
    "import numpy as np\n",
    "import openpyxl\n",
    "from datetime import datetime\n",
    "import matplotlib.pyplot as plt\n",
    "import scipy.stats as stats\n",
    "from tqdm import tqdm\n",
    "tqdm.pandas()\n",
    "plt.rc('font', family='Malgun Gothic')"
   ]
  },
  {
   "cell_type": "code",
   "execution_count": null,
   "metadata": {},
   "outputs": [],
   "source": [
    "#1. 데이터 불러오기\n",
    "data = pd.read_csv('../Data/Preprocessed/사용자분석.csv', encoding='utf-8')"
   ]
  },
  {
   "cell_type": "code",
   "execution_count": 4,
   "metadata": {},
   "outputs": [],
   "source": [
    "#2. 농협마트인 데이터 List\n",
    "NH_mart = ['구룡농협내산지점(마트)', '구룡농협동조합(마트)', '구룡농협외산지점(마트)', '규암농협마트', '규암농협은산지점(마트)', '농협초촌지점(마트)', '동부여농협 석성지점(마트)', '동부여농협하나로마트', '부여농협 하나로마트', '서부여농협(마트)', '서부여농협남면지점', '서부여농협옥산지점(마트)', '서부여농협충화지점(마트)', '세도농협동부지소( 마트)', '세도농협양화지점(마트)', '세도농협임천지점(마트)', '세도농협하나로마트', '장암농협(마트)']"
   ]
  },
  {
   "cell_type": "code",
   "execution_count": 5,
   "metadata": {},
   "outputs": [],
   "source": [
    "#3. 지점별 농협마트 데이터 List\n",
    "구룡농협 = ['구룡농협내산지점(마트)', '구룡농협동조합(마트)', '구룡농협외산지점(마트)']\n",
    "규암농협 = ['규암농협마트', '규암농협은산지점(마트)']\n",
    "동부여농협 = ['농협초촌지점(마트)', '동부여농협 석성지점(마트)', '동부여농협하나로마트']\n",
    "부여농협 = ['부여농협 하나로마트']\n",
    "서부여농협 = ['서부여농협(마트)', '서부여농협남면지점', '서부여농협옥산지점(마트)', '서부여농협충화지점(마트)']\n",
    "세도농협 = ['세도농협동부지소( 마트)', '세도농협양화지점(마트)', '세도농협임천지점(마트)', '세도농협하나로마트']\n",
    "장암농협 = ['장암농협(마트)']"
   ]
  },
  {
   "cell_type": "code",
   "execution_count": 6,
   "metadata": {},
   "outputs": [],
   "source": [
    "#4. 농협마트인 데이터만 추출\n",
    "df_nh = data.loc[data['가맹점명'].isin(NH_mart)]"
   ]
  },
  {
   "cell_type": "code",
   "execution_count": null,
   "metadata": {},
   "outputs": [],
   "source": [
    "#4. 각 지점별 농협 마트 묶어주기\n",
    "df_nh.loc[df_nh['가맹점명'].isin(구룡농협),'가맹점명'] = '구룡농협'\n",
    "df_nh.loc[df_nh['가맹점명'].isin(규암농협),'가맹점명'] = '규암농협'\n",
    "df_nh.loc[df_nh['가맹점명'].isin(동부여농협),'가맹점명'] = '동부여농협'\n",
    "df_nh.loc[df_nh['가맹점명'].isin(부여농협),'가맹점명'] = '부여농협'\n",
    "df_nh.loc[df_nh['가맹점명'].isin(서부여농협),'가맹점명'] = '서부여농협'\n",
    "df_nh.loc[df_nh['가맹점명'].isin(세도농협),'가맹점명'] = '세도농협'\n",
    "df_nh.loc[df_nh['가맹점명'].isin(장암농협),'가맹점명'] = '장암농협'\n",
    "df_nh"
   ]
  },
  {
   "cell_type": "code",
   "execution_count": 8,
   "metadata": {},
   "outputs": [
    {
     "data": {
      "text/html": [
       "<div>\n",
       "<style scoped>\n",
       "    .dataframe tbody tr th:only-of-type {\n",
       "        vertical-align: middle;\n",
       "    }\n",
       "\n",
       "    .dataframe tbody tr th {\n",
       "        vertical-align: top;\n",
       "    }\n",
       "\n",
       "    .dataframe thead th {\n",
       "        text-align: right;\n",
       "    }\n",
       "</style>\n",
       "<table border=\"1\" class=\"dataframe\">\n",
       "  <thead>\n",
       "    <tr style=\"text-align: right;\">\n",
       "      <th></th>\n",
       "      <th>연도</th>\n",
       "      <th>분기</th>\n",
       "      <th>가맹점명</th>\n",
       "      <th>사용금액</th>\n",
       "    </tr>\n",
       "  </thead>\n",
       "  <tbody>\n",
       "    <tr>\n",
       "      <th>0</th>\n",
       "      <td>2019년</td>\n",
       "      <td>4</td>\n",
       "      <td>구룡농협</td>\n",
       "      <td>8583411</td>\n",
       "    </tr>\n",
       "    <tr>\n",
       "      <th>1</th>\n",
       "      <td>2019년</td>\n",
       "      <td>4</td>\n",
       "      <td>규암농협</td>\n",
       "      <td>28225850</td>\n",
       "    </tr>\n",
       "    <tr>\n",
       "      <th>2</th>\n",
       "      <td>2019년</td>\n",
       "      <td>4</td>\n",
       "      <td>서부여농협</td>\n",
       "      <td>20963210</td>\n",
       "    </tr>\n",
       "    <tr>\n",
       "      <th>3</th>\n",
       "      <td>2019년</td>\n",
       "      <td>4</td>\n",
       "      <td>세도농협</td>\n",
       "      <td>28666830</td>\n",
       "    </tr>\n",
       "    <tr>\n",
       "      <th>4</th>\n",
       "      <td>2019년</td>\n",
       "      <td>4</td>\n",
       "      <td>장암농협</td>\n",
       "      <td>13817138</td>\n",
       "    </tr>\n",
       "    <tr>\n",
       "      <th>...</th>\n",
       "      <td>...</td>\n",
       "      <td>...</td>\n",
       "      <td>...</td>\n",
       "      <td>...</td>\n",
       "    </tr>\n",
       "    <tr>\n",
       "      <th>112</th>\n",
       "      <td>2023년</td>\n",
       "      <td>4</td>\n",
       "      <td>동부여농협</td>\n",
       "      <td>78119742</td>\n",
       "    </tr>\n",
       "    <tr>\n",
       "      <th>113</th>\n",
       "      <td>2023년</td>\n",
       "      <td>4</td>\n",
       "      <td>부여농협</td>\n",
       "      <td>105442980</td>\n",
       "    </tr>\n",
       "    <tr>\n",
       "      <th>114</th>\n",
       "      <td>2023년</td>\n",
       "      <td>4</td>\n",
       "      <td>서부여농협</td>\n",
       "      <td>87207480</td>\n",
       "    </tr>\n",
       "    <tr>\n",
       "      <th>115</th>\n",
       "      <td>2023년</td>\n",
       "      <td>4</td>\n",
       "      <td>세도농협</td>\n",
       "      <td>144060930</td>\n",
       "    </tr>\n",
       "    <tr>\n",
       "      <th>116</th>\n",
       "      <td>2023년</td>\n",
       "      <td>4</td>\n",
       "      <td>장암농협</td>\n",
       "      <td>29514202</td>\n",
       "    </tr>\n",
       "  </tbody>\n",
       "</table>\n",
       "<p>117 rows × 4 columns</p>\n",
       "</div>"
      ],
      "text/plain": [
       "        연도  분기   가맹점명       사용금액\n",
       "0    2019년   4   구룡농협    8583411\n",
       "1    2019년   4   규암농협   28225850\n",
       "2    2019년   4  서부여농협   20963210\n",
       "3    2019년   4   세도농협   28666830\n",
       "4    2019년   4   장암농협   13817138\n",
       "..     ...  ..    ...        ...\n",
       "112  2023년   4  동부여농협   78119742\n",
       "113  2023년   4   부여농협  105442980\n",
       "114  2023년   4  서부여농협   87207480\n",
       "115  2023년   4   세도농협  144060930\n",
       "116  2023년   4   장암농협   29514202\n",
       "\n",
       "[117 rows x 4 columns]"
      ]
     },
     "execution_count": 8,
     "metadata": {},
     "output_type": "execute_result"
    }
   ],
   "source": [
    "df_nh.groupby(['연도','분기','가맹점명'])['사용금액'].sum().reset_index()"
   ]
  },
  {
   "cell_type": "code",
   "execution_count": null,
   "metadata": {},
   "outputs": [],
   "source": [
    "df_nh.groupby(['연도','분기','가맹점명'])['사용금액'].sum().reset_index().to_excel('../Result/400. 농협분석/농협분석.xlsx',index=False)"
   ]
  },
  {
   "cell_type": "code",
   "execution_count": null,
   "metadata": {},
   "outputs": [],
   "source": []
  }
 ],
 "metadata": {
  "kernelspec": {
   "display_name": "pj_buyeo",
   "language": "python",
   "name": "python3"
  },
  "language_info": {
   "codemirror_mode": {
    "name": "ipython",
    "version": 3
   },
   "file_extension": ".py",
   "mimetype": "text/x-python",
   "name": "python",
   "nbconvert_exporter": "python",
   "pygments_lexer": "ipython3",
   "version": "3.11.0"
  }
 },
 "nbformat": 4,
 "nbformat_minor": 2
}
