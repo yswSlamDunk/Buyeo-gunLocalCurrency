{
 "cells": [
  {
   "cell_type": "code",
   "execution_count": 1,
   "metadata": {},
   "outputs": [],
   "source": [
    "import pandas as pd #Pandas 모듈 불러오기\n",
    "import numpy as np\n",
    "import openpyxl\n",
    "from datetime import datetime\n",
    "import matplotlib.pyplot as plt\n",
    "import scipy.stats as stats\n",
    "from tqdm import tqdm\n",
    "tqdm.pandas()\n",
    "plt.rc('font', family='Malgun Gothic')"
   ]
  },
  {
   "cell_type": "code",
   "execution_count": null,
   "metadata": {},
   "outputs": [],
   "source": [
    "data_가맹 = pd.read_csv('../Data/Preprocessed/사용자분석.csv', encoding='utf-8')\n",
    "data_가맹.head()"
   ]
  },
  {
   "cell_type": "code",
   "execution_count": 3,
   "metadata": {},
   "outputs": [],
   "source": [
    "#전처리1. 부여군만 필터링\n",
    "data_가맹_부여 = data_가맹.loc[data_가맹['시']=='부여군']"
   ]
  },
  {
   "cell_type": "markdown",
   "metadata": {},
   "source": [
    "이상치 확인"
   ]
  },
  {
   "cell_type": "code",
   "execution_count": null,
   "metadata": {},
   "outputs": [],
   "source": [
    "#사용자코드별 사용금액 합산\n",
    "grp_out =  data_가맹_부여.groupby(['사용자코드','연령대'])['사용금액'].sum().reset_index()\n",
    "grp_out.head(5)"
   ]
  },
  {
   "cell_type": "code",
   "execution_count": 5,
   "metadata": {},
   "outputs": [
    {
     "data": {
      "image/png": "[encoded data removed]",
      "text/plain": [
       "<Figure size 1000x500 with 1 Axes>"
      ]
     },
     "metadata": {},
     "output_type": "display_data"
    }
   ],
   "source": [
    "#연령대별 boxplot을 이용해 이상치가 어디서 많이 잡히는 지 시각적으로 확인\n",
    "plt.figure(figsize=(10,5))\n",
    "plt.boxplot([grp_out.loc[grp_out['연령대']=='10대','사용금액'], grp_out.loc[grp_out['연령대']=='20대','사용금액'], grp_out.loc[grp_out['연령대']=='30대','사용금액'] , grp_out.loc[grp_out['연령대']=='40대','사용금액'], grp_out.loc[grp_out['연령대']=='50대','사용금액'],grp_out.loc[grp_out['연령대']=='60대','사용금액'], grp_out.loc[grp_out['연령대']=='70대이상','사용금액']])\n",
    "plt.xticks([1,2,3,4,5,6,7],['10대','20대','30대','40대','50대','60대','70대이상'])\n",
    "plt.show()"
   ]
  },
  {
   "cell_type": "code",
   "execution_count": 1,
   "metadata": {},
   "outputs": [],
   "source": [
    "#이상치 처리 함수 정의\n",
    "def outlier(x, target_column):\n",
    "    q1 = x[target_column].quantile(0.25)\n",
    "    q3 = x[target_column].quantile(0.75)\n",
    "    iqr = q3-q1\n",
    "\n",
    "    x.loc[((q1 - iqr*1.5) < x[target_column]) & (x[target_column] < (q3 + iqr*1.5)), f'이상치_{target_column}'] = '정상'\n",
    "    return x"
   ]
  },
  {
   "cell_type": "code",
   "execution_count": 7,
   "metadata": {},
   "outputs": [
    {
     "name": "stderr",
     "output_type": "stream",
     "text": [
      "100%|██████████| 7/7 [00:00<00:00, 164.13it/s]\n"
     ]
    }
   ],
   "source": [
    "#함수 한 행씩 apply 하기\n",
    "no_outlier_grp = grp_out.groupby('연령대').progress_apply(lambda x : outlier(x, '사용금액')).reset_index(drop = True)"
   ]
  },
  {
   "cell_type": "code",
   "execution_count": 8,
   "metadata": {},
   "outputs": [
    {
     "data": {
      "text/html": [
       "<div>\n",
       "<style scoped>\n",
       "    .dataframe tbody tr th:only-of-type {\n",
       "        vertical-align: middle;\n",
       "    }\n",
       "\n",
       "    .dataframe tbody tr th {\n",
       "        vertical-align: top;\n",
       "    }\n",
       "\n",
       "    .dataframe thead th {\n",
       "        text-align: right;\n",
       "    }\n",
       "</style>\n",
       "<table border=\"1\" class=\"dataframe\">\n",
       "  <thead>\n",
       "    <tr style=\"text-align: right;\">\n",
       "      <th></th>\n",
       "      <th>사용자코드</th>\n",
       "      <th>사용금액</th>\n",
       "    </tr>\n",
       "    <tr>\n",
       "      <th>연령대</th>\n",
       "      <th></th>\n",
       "      <th></th>\n",
       "    </tr>\n",
       "  </thead>\n",
       "  <tbody>\n",
       "    <tr>\n",
       "      <th>10대</th>\n",
       "      <td>1586</td>\n",
       "      <td>9.227188e+05</td>\n",
       "    </tr>\n",
       "    <tr>\n",
       "      <th>20대</th>\n",
       "      <td>4427</td>\n",
       "      <td>2.401072e+06</td>\n",
       "    </tr>\n",
       "    <tr>\n",
       "      <th>30대</th>\n",
       "      <td>5196</td>\n",
       "      <td>4.945088e+06</td>\n",
       "    </tr>\n",
       "    <tr>\n",
       "      <th>40대</th>\n",
       "      <td>8136</td>\n",
       "      <td>7.261544e+06</td>\n",
       "    </tr>\n",
       "    <tr>\n",
       "      <th>50대</th>\n",
       "      <td>12257</td>\n",
       "      <td>7.595709e+06</td>\n",
       "    </tr>\n",
       "    <tr>\n",
       "      <th>60대</th>\n",
       "      <td>15513</td>\n",
       "      <td>7.148848e+06</td>\n",
       "    </tr>\n",
       "    <tr>\n",
       "      <th>70대이상</th>\n",
       "      <td>19255</td>\n",
       "      <td>4.206780e+06</td>\n",
       "    </tr>\n",
       "  </tbody>\n",
       "</table>\n",
       "</div>"
      ],
      "text/plain": [
       "       사용자코드          사용금액\n",
       "연령대                       \n",
       "10대     1586  9.227188e+05\n",
       "20대     4427  2.401072e+06\n",
       "30대     5196  4.945088e+06\n",
       "40대     8136  7.261544e+06\n",
       "50대    12257  7.595709e+06\n",
       "60대    15513  7.148848e+06\n",
       "70대이상  19255  4.206780e+06"
      ]
     },
     "execution_count": 8,
     "metadata": {},
     "output_type": "execute_result"
    }
   ],
   "source": [
    "#기존 데이터의 연령대별 사용자 수와 사용금액 평균\n",
    "grp_out.groupby('연령대').agg({'사용자코드':'count','사용금액':'mean'})"
   ]
  },
  {
   "cell_type": "code",
   "execution_count": 9,
   "metadata": {},
   "outputs": [
    {
     "data": {
      "text/html": [
       "<div>\n",
       "<style scoped>\n",
       "    .dataframe tbody tr th:only-of-type {\n",
       "        vertical-align: middle;\n",
       "    }\n",
       "\n",
       "    .dataframe tbody tr th {\n",
       "        vertical-align: top;\n",
       "    }\n",
       "\n",
       "    .dataframe thead th {\n",
       "        text-align: right;\n",
       "    }\n",
       "</style>\n",
       "<table border=\"1\" class=\"dataframe\">\n",
       "  <thead>\n",
       "    <tr style=\"text-align: right;\">\n",
       "      <th></th>\n",
       "      <th>사용자코드</th>\n",
       "      <th>사용금액</th>\n",
       "    </tr>\n",
       "    <tr>\n",
       "      <th>연령대</th>\n",
       "      <th></th>\n",
       "      <th></th>\n",
       "    </tr>\n",
       "  </thead>\n",
       "  <tbody>\n",
       "    <tr>\n",
       "      <th>10대</th>\n",
       "      <td>1440</td>\n",
       "      <td>4.650148e+05</td>\n",
       "    </tr>\n",
       "    <tr>\n",
       "      <th>20대</th>\n",
       "      <td>3940</td>\n",
       "      <td>1.182165e+06</td>\n",
       "    </tr>\n",
       "    <tr>\n",
       "      <th>30대</th>\n",
       "      <td>4686</td>\n",
       "      <td>2.718751e+06</td>\n",
       "    </tr>\n",
       "    <tr>\n",
       "      <th>40대</th>\n",
       "      <td>7360</td>\n",
       "      <td>4.135870e+06</td>\n",
       "    </tr>\n",
       "    <tr>\n",
       "      <th>50대</th>\n",
       "      <td>11151</td>\n",
       "      <td>4.553363e+06</td>\n",
       "    </tr>\n",
       "    <tr>\n",
       "      <th>60대</th>\n",
       "      <td>14010</td>\n",
       "      <td>4.322113e+06</td>\n",
       "    </tr>\n",
       "    <tr>\n",
       "      <th>70대이상</th>\n",
       "      <td>17322</td>\n",
       "      <td>2.483918e+06</td>\n",
       "    </tr>\n",
       "  </tbody>\n",
       "</table>\n",
       "</div>"
      ],
      "text/plain": [
       "       사용자코드          사용금액\n",
       "연령대                       \n",
       "10대     1440  4.650148e+05\n",
       "20대     3940  1.182165e+06\n",
       "30대     4686  2.718751e+06\n",
       "40대     7360  4.135870e+06\n",
       "50대    11151  4.553363e+06\n",
       "60대    14010  4.322113e+06\n",
       "70대이상  17322  2.483918e+06"
      ]
     },
     "execution_count": 9,
     "metadata": {},
     "output_type": "execute_result"
    }
   ],
   "source": [
    "#삭제 이후 이터의 연령대별 사용자 수와 사용금액 평균\n",
    "no_outlier_grp.loc[no_outlier_grp['이상치_사용금액'] == '정상'].groupby('연령대').agg({'사용자코드':'count','사용금액':'mean'})\n",
    "#평균 사용금액이 낮아진 것을 확인함"
   ]
  },
  {
   "cell_type": "code",
   "execution_count": 10,
   "metadata": {},
   "outputs": [
    {
     "data": {
      "text/html": [
       "<div>\n",
       "<style scoped>\n",
       "    .dataframe tbody tr th:only-of-type {\n",
       "        vertical-align: middle;\n",
       "    }\n",
       "\n",
       "    .dataframe tbody tr th {\n",
       "        vertical-align: top;\n",
       "    }\n",
       "\n",
       "    .dataframe thead th {\n",
       "        text-align: right;\n",
       "    }\n",
       "</style>\n",
       "<table border=\"1\" class=\"dataframe\">\n",
       "  <thead>\n",
       "    <tr style=\"text-align: right;\">\n",
       "      <th></th>\n",
       "      <th>사용자코드</th>\n",
       "      <th>사용금액</th>\n",
       "    </tr>\n",
       "    <tr>\n",
       "      <th>연령대</th>\n",
       "      <th></th>\n",
       "      <th></th>\n",
       "    </tr>\n",
       "  </thead>\n",
       "  <tbody>\n",
       "    <tr>\n",
       "      <th>10대</th>\n",
       "      <td>146</td>\n",
       "      <td>5.437059e+06</td>\n",
       "    </tr>\n",
       "    <tr>\n",
       "      <th>20대</th>\n",
       "      <td>487</td>\n",
       "      <td>1.226246e+07</td>\n",
       "    </tr>\n",
       "    <tr>\n",
       "      <th>30대</th>\n",
       "      <td>510</td>\n",
       "      <td>2.540119e+07</td>\n",
       "    </tr>\n",
       "    <tr>\n",
       "      <th>40대</th>\n",
       "      <td>776</td>\n",
       "      <td>3.690711e+07</td>\n",
       "    </tr>\n",
       "    <tr>\n",
       "      <th>50대</th>\n",
       "      <td>1106</td>\n",
       "      <td>3.826949e+07</td>\n",
       "    </tr>\n",
       "    <tr>\n",
       "      <th>60대</th>\n",
       "      <td>1503</td>\n",
       "      <td>3.349786e+07</td>\n",
       "    </tr>\n",
       "    <tr>\n",
       "      <th>70대이상</th>\n",
       "      <td>1933</td>\n",
       "      <td>1.964569e+07</td>\n",
       "    </tr>\n",
       "  </tbody>\n",
       "</table>\n",
       "</div>"
      ],
      "text/plain": [
       "       사용자코드          사용금액\n",
       "연령대                       \n",
       "10대      146  5.437059e+06\n",
       "20대      487  1.226246e+07\n",
       "30대      510  2.540119e+07\n",
       "40대      776  3.690711e+07\n",
       "50대     1106  3.826949e+07\n",
       "60대     1503  3.349786e+07\n",
       "70대이상   1933  1.964569e+07"
      ]
     },
     "execution_count": 10,
     "metadata": {},
     "output_type": "execute_result"
    }
   ],
   "source": [
    "#삭제된 데이터의 사용자 수와 사용금액 평균 확인\n",
    "no_outlier_grp.loc[no_outlier_grp['이상치_사용금액'] != '정상'].groupby('연령대').agg({'사용자코드':'count','사용금액':'mean'})"
   ]
  },
  {
   "cell_type": "code",
   "execution_count": 11,
   "metadata": {},
   "outputs": [],
   "source": [
    "#이상치 제거한 변수 정의\n",
    "data_가맹_부여_이상치제거 = data_가맹_부여.loc[data_가맹_부여['사용자코드'].isin(no_outlier_grp.loc[no_outlier_grp['이상치_사용금액'] == '정상','사용자코드'])]"
   ]
  },
  {
   "cell_type": "code",
   "execution_count": 12,
   "metadata": {},
   "outputs": [],
   "source": [
    "#전처리2. 대분류 기타 제거\n",
    "data_가맹_부여_기타제거 = data_가맹_부여_이상치제거.loc[data_가맹_부여_이상치제거['대분류']!='기타' ]"
   ]
  },
  {
   "cell_type": "code",
   "execution_count": 13,
   "metadata": {},
   "outputs": [
    {
     "name": "stderr",
     "output_type": "stream",
     "text": [
      "C:\\Users\\addmin\\AppData\\Local\\Temp\\ipykernel_18120\\3448087450.py:2: SettingWithCopyWarning: \n",
      "A value is trying to be set on a copy of a slice from a DataFrame.\n",
      "Try using .loc[row_indexer,col_indexer] = value instead\n",
      "\n",
      "See the caveats in the documentation: https://pandas.pydata.org/pandas-docs/stable/user_guide/indexing.html#returning-a-view-versus-a-copy\n",
      "  data_가맹_부여_기타제거['소분류_pp'] = data_가맹_부여_기타제거['대분류'] + \"_//_\"+ data_가맹_부여_기타제거['소분류']\n"
     ]
    }
   ],
   "source": [
    "#전처리3. 대분류 + _//_ + 소분류 구분 파생변수 생성\n",
    "data_가맹_부여_기타제거['소분류_pp'] = data_가맹_부여_기타제거['대분류'] + \"_//_\"+ data_가맹_부여_기타제거['소분류']"
   ]
  },
  {
   "cell_type": "code",
   "execution_count": 14,
   "metadata": {},
   "outputs": [],
   "source": [
    "#분석행정도 4개 권역 정의\n",
    "분석행정동 = ['부여읍','규암면','홍산면']"
   ]
  },
  {
   "cell_type": "code",
   "execution_count": 15,
   "metadata": {},
   "outputs": [],
   "source": [
    "# na값과 분석행정동이 아닌 행정동 기타로 지정\n",
    "data_가맹_부여_기타제거.loc[(~data_가맹_부여_기타제거['읍/면'].isin(분석행정동)) & (~data_가맹_부여_기타제거['읍/면'].isna()), '읍/면'] = '기타'\n",
    "data_가맹_부여_기타제거.loc[(~data_가맹_부여_기타제거['가맹점 주소'].isin(분석행정동)) & (~data_가맹_부여_기타제거['가맹점 주소'].isna()), '가맹점 주소'] = '기타'"
   ]
  },
  {
   "cell_type": "code",
   "execution_count": 16,
   "metadata": {},
   "outputs": [
    {
     "data": {
      "text/plain": [
       "array(['부여읍', '기타', '규암면', '홍산면'], dtype=object)"
      ]
     },
     "execution_count": 16,
     "metadata": {},
     "output_type": "execute_result"
    }
   ],
   "source": [
    "data_가맹_부여_기타제거['읍/면'].unique()"
   ]
  },
  {
   "cell_type": "code",
   "execution_count": 17,
   "metadata": {},
   "outputs": [
    {
     "data": {
      "text/plain": [
       "array(['부여읍', '규암면', '기타', '홍산면'], dtype=object)"
      ]
     },
     "execution_count": 17,
     "metadata": {},
     "output_type": "execute_result"
    }
   ],
   "source": [
    "data_가맹_부여_기타제거['가맹점 주소'].unique()"
   ]
  },
  {
   "cell_type": "code",
   "execution_count": 18,
   "metadata": {},
   "outputs": [
    {
     "data": {
      "text/html": [
       "<div>\n",
       "<style scoped>\n",
       "    .dataframe tbody tr th:only-of-type {\n",
       "        vertical-align: middle;\n",
       "    }\n",
       "\n",
       "    .dataframe tbody tr th {\n",
       "        vertical-align: top;\n",
       "    }\n",
       "\n",
       "    .dataframe thead th {\n",
       "        text-align: right;\n",
       "    }\n",
       "</style>\n",
       "<table border=\"1\" class=\"dataframe\">\n",
       "  <thead>\n",
       "    <tr style=\"text-align: right;\">\n",
       "      <th></th>\n",
       "      <th>연령대</th>\n",
       "      <th>시간대명</th>\n",
       "      <th>읍/면</th>\n",
       "      <th>대분류</th>\n",
       "      <th>소분류_pp</th>\n",
       "      <th>가맹점 주소</th>\n",
       "      <th>가맹점명</th>\n",
       "      <th>사용금액</th>\n",
       "    </tr>\n",
       "  </thead>\n",
       "  <tbody>\n",
       "    <tr>\n",
       "      <th>0</th>\n",
       "      <td>10대</td>\n",
       "      <td>00시~05:59분</td>\n",
       "      <td>규암면</td>\n",
       "      <td>관광/여가/오락</td>\n",
       "      <td>관광/여가/오락_//_노래방</td>\n",
       "      <td>부여읍</td>\n",
       "      <td>싱어노래연습장</td>\n",
       "      <td>30000</td>\n",
       "    </tr>\n",
       "    <tr>\n",
       "      <th>1</th>\n",
       "      <td>10대</td>\n",
       "      <td>00시~05:59분</td>\n",
       "      <td>규암면</td>\n",
       "      <td>관광/여가/오락</td>\n",
       "      <td>관광/여가/오락_//_노래방</td>\n",
       "      <td>부여읍</td>\n",
       "      <td>필노래연습장</td>\n",
       "      <td>20000</td>\n",
       "    </tr>\n",
       "    <tr>\n",
       "      <th>2</th>\n",
       "      <td>10대</td>\n",
       "      <td>00시~05:59분</td>\n",
       "      <td>규암면</td>\n",
       "      <td>소매</td>\n",
       "      <td>소매_//_수퍼마켓</td>\n",
       "      <td>규암면</td>\n",
       "      <td>이마트24부여규암</td>\n",
       "      <td>3350</td>\n",
       "    </tr>\n",
       "    <tr>\n",
       "      <th>3</th>\n",
       "      <td>10대</td>\n",
       "      <td>00시~05:59분</td>\n",
       "      <td>규암면</td>\n",
       "      <td>소매</td>\n",
       "      <td>소매_//_편의점</td>\n",
       "      <td>부여읍</td>\n",
       "      <td>CU부여대박사비점</td>\n",
       "      <td>10250</td>\n",
       "    </tr>\n",
       "    <tr>\n",
       "      <th>4</th>\n",
       "      <td>10대</td>\n",
       "      <td>00시~05:59분</td>\n",
       "      <td>규암면</td>\n",
       "      <td>소매</td>\n",
       "      <td>소매_//_편의점</td>\n",
       "      <td>부여읍</td>\n",
       "      <td>CU부여은산점</td>\n",
       "      <td>9350</td>\n",
       "    </tr>\n",
       "    <tr>\n",
       "      <th>...</th>\n",
       "      <td>...</td>\n",
       "      <td>...</td>\n",
       "      <td>...</td>\n",
       "      <td>...</td>\n",
       "      <td>...</td>\n",
       "      <td>...</td>\n",
       "      <td>...</td>\n",
       "      <td>...</td>\n",
       "    </tr>\n",
       "    <tr>\n",
       "      <th>75905</th>\n",
       "      <td>70대이상</td>\n",
       "      <td>18시~23시59분</td>\n",
       "      <td>홍산면</td>\n",
       "      <td>자동차</td>\n",
       "      <td>자동차_//_주유소</td>\n",
       "      <td>홍산면</td>\n",
       "      <td>홍산주유소</td>\n",
       "      <td>3645300</td>\n",
       "    </tr>\n",
       "    <tr>\n",
       "      <th>75906</th>\n",
       "      <td>70대이상</td>\n",
       "      <td>18시~23시59분</td>\n",
       "      <td>홍산면</td>\n",
       "      <td>자동차</td>\n",
       "      <td>자동차_//_충전소</td>\n",
       "      <td>부여읍</td>\n",
       "      <td>용정LPG충전소</td>\n",
       "      <td>520558</td>\n",
       "    </tr>\n",
       "    <tr>\n",
       "      <th>75907</th>\n",
       "      <td>70대이상</td>\n",
       "      <td>18시~23시59분</td>\n",
       "      <td>홍산면</td>\n",
       "      <td>자동차</td>\n",
       "      <td>자동차_//_충전소</td>\n",
       "      <td>홍산면</td>\n",
       "      <td>충남가스충전소</td>\n",
       "      <td>357584</td>\n",
       "    </tr>\n",
       "    <tr>\n",
       "      <th>75908</th>\n",
       "      <td>70대이상</td>\n",
       "      <td>18시~23시59분</td>\n",
       "      <td>홍산면</td>\n",
       "      <td>종교</td>\n",
       "      <td>종교_//_교회</td>\n",
       "      <td>부여읍</td>\n",
       "      <td>교회서림</td>\n",
       "      <td>34000</td>\n",
       "    </tr>\n",
       "    <tr>\n",
       "      <th>75909</th>\n",
       "      <td>70대이상</td>\n",
       "      <td>18시~23시59분</td>\n",
       "      <td>홍산면</td>\n",
       "      <td>학문/교육</td>\n",
       "      <td>학문/교육_//_학원(종합)</td>\n",
       "      <td>부여읍</td>\n",
       "      <td>학원서림</td>\n",
       "      <td>31000</td>\n",
       "    </tr>\n",
       "  </tbody>\n",
       "</table>\n",
       "<p>75910 rows × 8 columns</p>\n",
       "</div>"
      ],
      "text/plain": [
       "         연령대        시간대명  읍/면       대분류           소분류_pp 가맹점 주소       가맹점명  \\\n",
       "0        10대  00시~05:59분  규암면  관광/여가/오락  관광/여가/오락_//_노래방    부여읍    싱어노래연습장   \n",
       "1        10대  00시~05:59분  규암면  관광/여가/오락  관광/여가/오락_//_노래방    부여읍    필노래연습장    \n",
       "2        10대  00시~05:59분  규암면        소매       소매_//_수퍼마켓    규암면  이마트24부여규암   \n",
       "3        10대  00시~05:59분  규암면        소매        소매_//_편의점    부여읍  CU부여대박사비점   \n",
       "4        10대  00시~05:59분  규암면        소매        소매_//_편의점    부여읍    CU부여은산점   \n",
       "...      ...         ...  ...       ...              ...    ...        ...   \n",
       "75905  70대이상  18시~23시59분  홍산면       자동차       자동차_//_주유소    홍산면      홍산주유소   \n",
       "75906  70대이상  18시~23시59분  홍산면       자동차       자동차_//_충전소    부여읍   용정LPG충전소   \n",
       "75907  70대이상  18시~23시59분  홍산면       자동차       자동차_//_충전소    홍산면    충남가스충전소   \n",
       "75908  70대이상  18시~23시59분  홍산면        종교         종교_//_교회    부여읍       교회서림   \n",
       "75909  70대이상  18시~23시59분  홍산면     학문/교육  학문/교육_//_학원(종합)    부여읍       학원서림   \n",
       "\n",
       "          사용금액  \n",
       "0        30000  \n",
       "1        20000  \n",
       "2         3350  \n",
       "3        10250  \n",
       "4         9350  \n",
       "...        ...  \n",
       "75905  3645300  \n",
       "75906   520558  \n",
       "75907   357584  \n",
       "75908    34000  \n",
       "75909    31000  \n",
       "\n",
       "[75910 rows x 8 columns]"
      ]
     },
     "execution_count": 18,
     "metadata": {},
     "output_type": "execute_result"
    }
   ],
   "source": [
    "data_가맹_부여_기타제거.groupby(['연령대','시간대명','읍/면','대분류','소분류_pp','가맹점 주소','가맹점명']).agg({'사용금액':'sum'}).reset_index()"
   ]
  },
  {
   "cell_type": "code",
   "execution_count": 19,
   "metadata": {},
   "outputs": [],
   "source": [
    "data_가맹_부여_기타제거.groupby(['연령대','시간대명','읍/면','대분류','소분류_pp','가맹점 주소','가맹점명']).agg({'사용금액':'sum'}).reset_index().to_excel('../Result/600. 라이프 스타일 분석/1. 라이프 스테이지 EDA_new.xlsx',index=False)"
   ]
  }
 ],
 "metadata": {
  "kernelspec": {
   "display_name": "pj_buyeo",
   "language": "python",
   "name": "python3"
  },
  "language_info": {
   "codemirror_mode": {
    "name": "ipython",
    "version": 3
   },
   "file_extension": ".py",
   "mimetype": "text/x-python",
   "name": "python",
   "nbconvert_exporter": "python",
   "pygments_lexer": "ipython3",
   "version": "3.11.0"
  }
 },
 "nbformat": 4,
 "nbformat_minor": 2
}
