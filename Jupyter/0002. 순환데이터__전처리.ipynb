{
 "cells": [
  {
   "cell_type": "code",
   "execution_count": 1,
   "metadata": {},
   "outputs": [],
   "source": [
    "import os\n",
    "import pandas as pd\n",
    "import numpy as np\n",
    "\n",
    "from tqdm import tqdm\n",
    "tqdm.pandas()\n",
    "\n",
    "import requests\n",
    "import re"
   ]
  },
  {
   "cell_type": "code",
   "execution_count": 7,
   "metadata": {},
   "outputs": [],
   "source": [
    "path1 = '../Data/Origin/20231208_순환분석데이터_1.xlsx'\n",
    "path2 = '../Data/Origin/20231208_순환분석데이터_2.xlsx'\n",
    "\n",
    "df_1 = pd.read_excel(path1)\n",
    "df_2 = pd.read_excel(path2)"
   ]
  },
  {
   "cell_type": "code",
   "execution_count": 10,
   "metadata": {},
   "outputs": [
    {
     "data": {
      "text/plain": [
       "Index(['사용자코드', '연도', '분기', '날짜', '요일', '시간대명', '성별', '연령대', '사용자 사업자 번호',\n",
       "       '사용자 업종', '사용자 시군 대분류', '사용자 시도', '사용자 시군', '사용자 읍면', '가맹점 시군 대분류',\n",
       "       '가맹점 시도', '가맹점 시군', '가맹점 사업자 번호', '가맹점 업종', '가맹점 읍면', '사용금액',\n",
       "       '사용자 가맹점명', '사용자 골목상권분류', '사용자 대분류', '사용자 중분류', '사용자 소분류', '사용자 가맹점 주소',\n",
       "       '사용자 가맹가입일자', '가맹점 가맹점명', '가맹점 골목상권분류', '가맹점 대분류', '가맹점 중분류', '가맹점 소분류',\n",
       "       '가맹점 가맹점 주소', '가맹점 가맹가입일자'],\n",
       "      dtype='object')"
      ]
     },
     "execution_count": 10,
     "metadata": {},
     "output_type": "execute_result"
    }
   ],
   "source": [
    "df_1.columns"
   ]
  },
  {
   "cell_type": "code",
   "execution_count": 13,
   "metadata": {},
   "outputs": [],
   "source": [
    "main_df1 = df_1[['사용자코드', '날짜', '사용자 사업자 번호', '가맹점 사업자 번호', '사용금액']]\n",
    "main_df2 = df_2[['사용자코드', '날짜', '사용자 사업자 번호', '가맹점 사업자 번호', '사용금액']]\n",
    "\n",
    "main_df = pd.concat([main_df1, main_df2], axis = 0, ignore_index = True)\n",
    "# main_df.to_csv('../Data/Preprocessed/순환분석_main.csv', index = False, encoding = 'utf-8-sig', escapechar = '\\\\')"
   ]
  },
  {
   "cell_type": "code",
   "execution_count": 16,
   "metadata": {},
   "outputs": [],
   "source": [
    "people_df1 = df_1[['사용자코드', '성별', '연령대']].drop_duplicates()\n",
    "people_df2 = df_2[['사용자코드', '성별', '연령대']].drop_duplicates()\n",
    "\n",
    "people_df = pd.concat([people_df1, people_df2], axis = 0, ignore_index = True)\n",
    "# people_df.to_csv('../Data/Preprocessed/순환분석_people.csv', index = False, encoding = 'utf-8-sig', escapechar = '\\\\')"
   ]
  },
  {
   "cell_type": "code",
   "execution_count": null,
   "metadata": {},
   "outputs": [],
   "source": []
  },
  {
   "cell_type": "code",
   "execution_count": null,
   "metadata": {},
   "outputs": [],
   "source": []
  }
 ],
 "metadata": {
  "kernelspec": {
   "display_name": "Buyeo-gunLocalCurrency",
   "language": "python",
   "name": "python3"
  },
  "language_info": {
   "codemirror_mode": {
    "name": "ipython",
    "version": 3
   },
   "file_extension": ".py",
   "mimetype": "text/x-python",
   "name": "python",
   "nbconvert_exporter": "python",
   "pygments_lexer": "ipython3",
   "version": "3.10.13"
  }
 },
 "nbformat": 4,
 "nbformat_minor": 2
}
