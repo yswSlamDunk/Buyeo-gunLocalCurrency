{
 "cells": [
  {
   "cell_type": "code",
   "execution_count": 2,
   "metadata": {},
   "outputs": [],
   "source": [
    "import pandas as pd #Pandas 모듈 불러오기\n",
    "import numpy as np\n",
    "import openpyxl\n",
    "from datetime import datetime\n",
    "import matplotlib.pyplot as plt\n",
    "import scipy.stats as stats\n",
    "from tqdm import tqdm\n",
    "tqdm.pandas()\n",
    "plt.rc('font', family='Malgun Gothic')"
   ]
  },
  {
   "cell_type": "code",
   "execution_count": null,
   "metadata": {},
   "outputs": [],
   "source": [
    "data_가맹 = pd.read_csv('../Data/Preprocessed/사용자분석.csv', encoding='utf-8')\n",
    "data_가맹.head()"
   ]
  },
  {
   "cell_type": "code",
   "execution_count": 4,
   "metadata": {},
   "outputs": [],
   "source": [
    "#전처리1. 부여군만 필터링\n",
    "data_가맹_부여 = data_가맹.loc[data_가맹['시']=='부여군']"
   ]
  },
  {
   "cell_type": "markdown",
   "metadata": {},
   "source": [
    "이상치 제거 프로세스"
   ]
  },
  {
   "cell_type": "code",
   "execution_count": 5,
   "metadata": {},
   "outputs": [
    {
     "data": {
      "text/html": [
       "<div>\n",
       "<style scoped>\n",
       "    .dataframe tbody tr th:only-of-type {\n",
       "        vertical-align: middle;\n",
       "    }\n",
       "\n",
       "    .dataframe tbody tr th {\n",
       "        vertical-align: top;\n",
       "    }\n",
       "\n",
       "    .dataframe thead th {\n",
       "        text-align: right;\n",
       "    }\n",
       "</style>\n",
       "<table border=\"1\" class=\"dataframe\">\n",
       "  <thead>\n",
       "    <tr style=\"text-align: right;\">\n",
       "      <th></th>\n",
       "      <th>사용자코드</th>\n",
       "      <th>연령대</th>\n",
       "      <th>사용금액</th>\n",
       "    </tr>\n",
       "  </thead>\n",
       "  <tbody>\n",
       "    <tr>\n",
       "      <th>0</th>\n",
       "      <td>김길자0418345175</td>\n",
       "      <td>60대</td>\n",
       "      <td>283720</td>\n",
       "    </tr>\n",
       "    <tr>\n",
       "      <th>1</th>\n",
       "      <td>(재)국제도덕협회9999990013</td>\n",
       "      <td>20대</td>\n",
       "      <td>106080</td>\n",
       "    </tr>\n",
       "    <tr>\n",
       "      <th>2</th>\n",
       "      <td>(재)부여군지역공동체활성화재단9999999991</td>\n",
       "      <td>20대</td>\n",
       "      <td>1271040</td>\n",
       "    </tr>\n",
       "    <tr>\n",
       "      <th>3</th>\n",
       "      <td>21보건소01023832199</td>\n",
       "      <td>10대</td>\n",
       "      <td>1524500</td>\n",
       "    </tr>\n",
       "    <tr>\n",
       "      <th>4</th>\n",
       "      <td>ALE RISHI RAM01033729301</td>\n",
       "      <td>30대</td>\n",
       "      <td>256910</td>\n",
       "    </tr>\n",
       "  </tbody>\n",
       "</table>\n",
       "</div>"
      ],
      "text/plain": [
       "                        사용자코드  연령대     사용금액\n",
       "0               김길자0418345175  60대   283720\n",
       "1         (재)국제도덕협회9999990013  20대   106080\n",
       "2  (재)부여군지역공동체활성화재단9999999991  20대  1271040\n",
       "3            21보건소01023832199  10대  1524500\n",
       "4    ALE RISHI RAM01033729301  30대   256910"
      ]
     },
     "execution_count": 5,
     "metadata": {},
     "output_type": "execute_result"
    }
   ],
   "source": [
    "#사용자코드별 사용금액 합산\n",
    "grp_out =  data_가맹_부여.groupby(['사용자코드','연령대'])['사용금액'].sum().reset_index()\n",
    "grp_out.head(5)"
   ]
  },
  {
   "cell_type": "code",
   "execution_count": 64,
   "metadata": {},
   "outputs": [],
   "source": [
    "#이상치 제거 함수 정의\n",
    "def outlier(x, target_column):\n",
    "    q1 = x[target_column].quantile(0.25)\n",
    "    q3 = x[target_column].quantile(0.75)\n",
    "    iqr = q3-q1\n",
    "\n",
    "    x.loc[((q1 - iqr*1.5) < x[target_column]) & (x[target_column] < (q3 + iqr*1.5)), f'이상치_{target_column}'] = '정상'\n",
    "    return x"
   ]
  },
  {
   "cell_type": "code",
   "execution_count": 7,
   "metadata": {},
   "outputs": [
    {
     "name": "stderr",
     "output_type": "stream",
     "text": [
      "100%|██████████| 7/7 [00:00<00:00, 203.27it/s]\n"
     ]
    }
   ],
   "source": [
    "#함수 한 행씩 apply 하기\n",
    "no_outlier_grp = grp_out.groupby('연령대').progress_apply(lambda x : outlier(x, '사용금액')).reset_index(drop = True)"
   ]
  },
  {
   "cell_type": "code",
   "execution_count": 8,
   "metadata": {},
   "outputs": [],
   "source": [
    "##이상치 제거한 변수 정의\n",
    "data_가맹_부여_이상치제거 = data_가맹_부여.loc[data_가맹_부여['사용자코드'].isin(no_outlier_grp.loc[no_outlier_grp['이상치_사용금액'] == '정상','사용자코드'])]"
   ]
  },
  {
   "cell_type": "code",
   "execution_count": 9,
   "metadata": {},
   "outputs": [],
   "source": [
    "#분석월 정의 21년~23년,  1~10월까지만 분석 데이터로 정의\n",
    "분석동월 = ['1월', '2월', '3월', '4월', '5월', '6월', '7월', '8월', '9월', '10월']"
   ]
  },
  {
   "cell_type": "code",
   "execution_count": 10,
   "metadata": {},
   "outputs": [],
   "source": [
    "#분석월 정의 21년~23년,  1~10월까지만 분석 데이터로 정의\n",
    "data_가맹_부여_in_out = data_가맹_부여_이상치제거.loc[(data_가맹_부여_이상치제거['연도']=='2021년') | (data_가맹_부여_이상치제거['연도']=='2022년') | (data_가맹_부여_이상치제거['연도']=='2023년')]\n",
    "data_가맹_부여_in_out = data_가맹_부여_in_out[data_가맹_부여_in_out['월'].isin(분석동월)]"
   ]
  },
  {
   "cell_type": "code",
   "execution_count": 12,
   "metadata": {},
   "outputs": [
    {
     "data": {
      "text/html": [
       "<div>\n",
       "<style scoped>\n",
       "    .dataframe tbody tr th:only-of-type {\n",
       "        vertical-align: middle;\n",
       "    }\n",
       "\n",
       "    .dataframe tbody tr th {\n",
       "        vertical-align: top;\n",
       "    }\n",
       "\n",
       "    .dataframe thead th {\n",
       "        text-align: right;\n",
       "    }\n",
       "</style>\n",
       "<table border=\"1\" class=\"dataframe\">\n",
       "  <thead>\n",
       "    <tr style=\"text-align: right;\">\n",
       "      <th></th>\n",
       "      <th>연도</th>\n",
       "      <th>상주인구 사용금액</th>\n",
       "      <th>상주인구 사용자 수</th>\n",
       "      <th>상주인구 사용횟수</th>\n",
       "      <th>유입인구 사용금액</th>\n",
       "      <th>유입인구 사용자 수</th>\n",
       "      <th>유입인구 사용횟수</th>\n",
       "    </tr>\n",
       "  </thead>\n",
       "  <tbody>\n",
       "    <tr>\n",
       "      <th>0</th>\n",
       "      <td>2021년</td>\n",
       "      <td>33426790534</td>\n",
       "      <td>37297</td>\n",
       "      <td>1701512</td>\n",
       "      <td>24448592071</td>\n",
       "      <td>32300</td>\n",
       "      <td>678384</td>\n",
       "    </tr>\n",
       "    <tr>\n",
       "      <th>1</th>\n",
       "      <td>2022년</td>\n",
       "      <td>31229851810</td>\n",
       "      <td>25477</td>\n",
       "      <td>1671715</td>\n",
       "      <td>22677995821</td>\n",
       "      <td>22595</td>\n",
       "      <td>662776</td>\n",
       "    </tr>\n",
       "    <tr>\n",
       "      <th>2</th>\n",
       "      <td>2023년</td>\n",
       "      <td>25187492701</td>\n",
       "      <td>25803</td>\n",
       "      <td>1500190</td>\n",
       "      <td>19987392004</td>\n",
       "      <td>23411</td>\n",
       "      <td>623790</td>\n",
       "    </tr>\n",
       "  </tbody>\n",
       "</table>\n",
       "</div>"
      ],
      "text/plain": [
       "      연도    상주인구 사용금액  상주인구 사용자 수  상주인구 사용횟수    유입인구 사용금액  유입인구 사용자 수  \\\n",
       "0  2021년  33426790534       37297    1701512  24448592071       32300   \n",
       "1  2022년  31229851810       25477    1671715  22677995821       22595   \n",
       "2  2023년  25187492701       25803    1500190  19987392004       23411   \n",
       "\n",
       "   유입인구 사용횟수  \n",
       "0     678384  \n",
       "1     662776  \n",
       "2     623790  "
      ]
     },
     "execution_count": 12,
     "metadata": {},
     "output_type": "execute_result"
    }
   ],
   "source": [
    "in_out_location = data_가맹_부여_in_out[data_가맹_부여_in_out['읍/면'] == data_가맹_부여_in_out['가맹점 주소']].groupby(['연도','읍/면']).agg({'사용금액':'sum', '사용자코드':'nunique'}).reset_index() #본인지역 사용 금액, 사용자 수\n",
    "in_out_location.rename(columns={'사용금액':'상주인구 사용금액','사용자코드':'상주인구 사용자 수'},inplace=True)\n",
    "\n",
    "in_out_location['상주인구 사용횟수'] = data_가맹_부여_in_out[data_가맹_부여_in_out['읍/면'] == data_가맹_부여_in_out['읍/면']].groupby(['연도','읍/면'])['사용자코드'].count().reset_index()['사용자코드']\n",
    "in_out_location['유입인구 사용금액'] = data_가맹_부여_in_out[data_가맹_부여_in_out['읍/면'] != data_가맹_부여_in_out['가맹점 주소']].groupby(['연도','읍/면'])['사용금액'].sum().reset_index()['사용금액']\n",
    "in_out_location['유입인구 사용자 수'] = data_가맹_부여_in_out[data_가맹_부여_in_out['읍/면'] != data_가맹_부여_in_out['가맹점 주소']].groupby(['연도','읍/면'])['사용자코드'].nunique().reset_index()['사용자코드']\n",
    "in_out_location['유입인구 사용횟수'] = data_가맹_부여_in_out[data_가맹_부여_in_out['읍/면'] != data_가맹_부여_in_out['가맹점 주소']].groupby(['연도','읍/면'])['사용자코드'].count().reset_index()['사용자코드']\n",
    "in_out_location['사용금액 총합계'] = in_out_location['상주인구 사용금액']+in_out_location['유입인구 사용금액']\n",
    "in_out_location['사용자 수 총합계'] = in_out_location['상주인구 사용자 수']+in_out_location['유입인구 사용자 수']\n",
    "in_out_location['사용횟수 총합계'] = in_out_location['상주인구 사용횟수']+in_out_location['유입인구 사용횟수']\n",
    "grp_in_out = in_out_location.groupby('연도')[in_out_location.columns.difference(['연도','읍/면'])].sum().reset_index()\n",
    "#사용금액 비율\n",
    "grp_in_out['상주인구 사용금액 비율'] = round(grp_in_out['상주인구 사용금액']/grp_in_out['사용금액 총합계']*100,1)\n",
    "grp_in_out['유입인구 사용금액 비율'] = round(grp_in_out['유입인구 사용금액']/grp_in_out['사용금액 총합계']*100,1)\n",
    "\n",
    "#사용자 수 비율\n",
    "grp_in_out['상주인구 사용자 수 비율'] = round(grp_in_out['상주인구 사용자 수']/grp_in_out['사용자 수 총합계']*100,1)\n",
    "grp_in_out['유입인구 사용자 수 비율'] = round(grp_in_out['유입인구 사용자 수']/grp_in_out['사용자 수 총합계']*100,1)\n",
    "\n",
    "#사용횟수 비율\n",
    "grp_in_out['상주인구 사용횟수 비율'] = round(grp_in_out['상주인구 사용횟수']/grp_in_out['사용횟수 총합계']*100,1)\n",
    "grp_in_out['유입인구 사용횟수 비율'] = round(grp_in_out['유입인구 사용횟수']/grp_in_out['사용횟수 총합계']*100,1)\n",
    "grp_in_out[['연도','상주인구 사용금액', '상주인구 사용자 수', '상주인구 사용횟수', '유입인구 사용금액', '유입인구 사용자 수', '유입인구 사용횟수']]"
   ]
  },
  {
   "cell_type": "code",
   "execution_count": null,
   "metadata": {},
   "outputs": [],
   "source": [
    "#거주지 내/외 사용 구분 변수 정의\n",
    "data_가맹_부여_in_out.loc[data_가맹_부여_in_out['읍/면'] == data_가맹_부여_in_out['가맹점 주소'],'거주지역 내/외 사용구분'] = '거주지역 내 사용'\n",
    "data_가맹_부여_in_out.loc[data_가맹_부여_in_out['읍/면'] != data_가맹_부여_in_out['가맹점 주소'],'거주지역 내/외 사용구분'] = '거주지역 외 사용'\n",
    "data_가맹_부여_in_out.head(3)"
   ]
  },
  {
   "cell_type": "code",
   "execution_count": 26,
   "metadata": {},
   "outputs": [],
   "source": [
    "#충전 데이터와 합치기 위해 기준연월 변수 생성\n",
    "data_가맹_부여_in_out['기준연월'] = pd.to_datetime(data_가맹_부여_in_out['날짜'], format='%Y%m%d').dt.strftime('%Y/%m')"
   ]
  },
  {
   "cell_type": "code",
   "execution_count": 27,
   "metadata": {},
   "outputs": [],
   "source": [
    "df_in_out_grp = data_가맹_부여_in_out.groupby(['사용자코드','기준연월','연령대','거주지역 내/외 사용구분','읍/면','가맹점 주소','대분류','소분류'])['사용금액'].sum().reset_index()"
   ]
  },
  {
   "cell_type": "markdown",
   "metadata": {},
   "source": [
    "충전데이터 구분에 따른 지역내/외 사용 정도 분석"
   ]
  },
  {
   "cell_type": "code",
   "execution_count": 17,
   "metadata": {},
   "outputs": [
    {
     "data": {
      "text/html": [
       "<div>\n",
       "<style scoped>\n",
       "    .dataframe tbody tr th:only-of-type {\n",
       "        vertical-align: middle;\n",
       "    }\n",
       "\n",
       "    .dataframe tbody tr th {\n",
       "        vertical-align: top;\n",
       "    }\n",
       "\n",
       "    .dataframe thead th {\n",
       "        text-align: right;\n",
       "    }\n",
       "</style>\n",
       "<table border=\"1\" class=\"dataframe\">\n",
       "  <thead>\n",
       "    <tr style=\"text-align: right;\">\n",
       "      <th></th>\n",
       "      <th>구분</th>\n",
       "      <th>충전금액</th>\n",
       "      <th>발행(정책+민간)</th>\n",
       "      <th>인센티브적립</th>\n",
       "      <th>인센티브사용</th>\n",
       "      <th>기준연월</th>\n",
       "      <th>사용자코드</th>\n",
       "    </tr>\n",
       "  </thead>\n",
       "  <tbody>\n",
       "    <tr>\n",
       "      <th>0</th>\n",
       "      <td>일반 사용자</td>\n",
       "      <td>0.0</td>\n",
       "      <td>0.0</td>\n",
       "      <td>0.0</td>\n",
       "      <td>0.0</td>\n",
       "      <td>2020/11</td>\n",
       "      <td>김진선01029019263</td>\n",
       "    </tr>\n",
       "    <tr>\n",
       "      <th>1</th>\n",
       "      <td>일반 사용자</td>\n",
       "      <td>0.0</td>\n",
       "      <td>0.0</td>\n",
       "      <td>776277.0</td>\n",
       "      <td>0.0</td>\n",
       "      <td>2020/11</td>\n",
       "      <td>박대웅01042416386</td>\n",
       "    </tr>\n",
       "    <tr>\n",
       "      <th>2</th>\n",
       "      <td>일반 사용자</td>\n",
       "      <td>0.0</td>\n",
       "      <td>0.0</td>\n",
       "      <td>72759.0</td>\n",
       "      <td>279941.0</td>\n",
       "      <td>2020/11</td>\n",
       "      <td>유금예01024888183</td>\n",
       "    </tr>\n",
       "    <tr>\n",
       "      <th>3</th>\n",
       "      <td>일반 사용자</td>\n",
       "      <td>0.0</td>\n",
       "      <td>0.0</td>\n",
       "      <td>2010.0</td>\n",
       "      <td>0.0</td>\n",
       "      <td>2020/11</td>\n",
       "      <td>이창희01085080732</td>\n",
       "    </tr>\n",
       "    <tr>\n",
       "      <th>4</th>\n",
       "      <td>일반 사용자</td>\n",
       "      <td>1000000.0</td>\n",
       "      <td>0.0</td>\n",
       "      <td>165831.0</td>\n",
       "      <td>0.0</td>\n",
       "      <td>2020/11</td>\n",
       "      <td>이광호01056371015</td>\n",
       "    </tr>\n",
       "  </tbody>\n",
       "</table>\n",
       "</div>"
      ],
      "text/plain": [
       "       구분       충전금액  발행(정책+민간)    인센티브적립    인센티브사용     기준연월           사용자코드\n",
       "0  일반 사용자        0.0        0.0       0.0       0.0  2020/11  김진선01029019263\n",
       "1  일반 사용자        0.0        0.0  776277.0       0.0  2020/11  박대웅01042416386\n",
       "2  일반 사용자        0.0        0.0   72759.0  279941.0  2020/11  유금예01024888183\n",
       "3  일반 사용자        0.0        0.0    2010.0       0.0  2020/11  이창희01085080732\n",
       "4  일반 사용자  1000000.0        0.0  165831.0       0.0  2020/11  이광호01056371015"
      ]
     },
     "execution_count": 17,
     "metadata": {},
     "output_type": "execute_result"
    }
   ],
   "source": [
    "ch_현황_df = pd.read_csv('../Data/Preprocessed/사용자충전데이터.csv', encoding='cp949')\n",
    "ch_현황_df.head()"
   ]
  },
  {
   "cell_type": "markdown",
   "metadata": {},
   "source": [
    "충전별 구분"
   ]
  },
  {
   "cell_type": "code",
   "execution_count": 21,
   "metadata": {},
   "outputs": [],
   "source": [
    "#자가충전만 한 사용자\n",
    "ch_현황_df.loc[(ch_현황_df['충전금액']>0) & (ch_현황_df['발행(정책+민간)']<=0),['충전 구분']] = '자가충전만'\n",
    "#정책+민간 발행만 받은 사용자\n",
    "ch_현황_df.loc[(ch_현황_df['충전금액']<=0) & (ch_현황_df['발행(정책+민간)']>0),['충전 구분']] = '발행만'\n",
    "#정책+민간 발행받고 자가충전을 한 사용자\n",
    "ch_현황_df.loc[(ch_현황_df['충전금액']>0) & (ch_현황_df['발행(정책+민간)']>0),['충전 구분']] = '자가+발행'\n",
    "#나머지 알수 없음"
   ]
  },
  {
   "cell_type": "code",
   "execution_count": null,
   "metadata": {},
   "outputs": [],
   "source": [
    "ch_현황_df.groupby(['기준연월','사용자코드','충전 구분']).agg({'충전금액':'sum','발행(정책+민간)':'sum'}).reset_index()"
   ]
  },
  {
   "cell_type": "code",
   "execution_count": 23,
   "metadata": {},
   "outputs": [],
   "source": [
    "ch_data_df = ch_현황_df.groupby(['기준연월','사용자코드','충전 구분']).agg({'충전금액':'sum','발행(정책+민간)':'sum'}).reset_index()"
   ]
  },
  {
   "cell_type": "code",
   "execution_count": 29,
   "metadata": {},
   "outputs": [],
   "source": [
    "#충전데이터와 사용 데이터 합치기\n",
    "df_in_out = pd.merge(df_in_out_grp, ch_data_df,how='left',on=['기준연월','사용자코드'])"
   ]
  },
  {
   "cell_type": "code",
   "execution_count": 36,
   "metadata": {},
   "outputs": [
    {
     "data": {
      "text/plain": [
       "array(['발행만', nan, '자가충전만', '자가+발행'], dtype=object)"
      ]
     },
     "execution_count": 36,
     "metadata": {},
     "output_type": "execute_result"
    }
   ],
   "source": [
    "df_in_out['충전 구분'].unique()"
   ]
  },
  {
   "cell_type": "code",
   "execution_count": null,
   "metadata": {},
   "outputs": [],
   "source": [
    "#연도, 월 변수 생성\n",
    "df_in_out['연도'] = pd.to_datetime(df_in_out['기준연월'],format='%Y/%m').dt.strftime('%Y')\n",
    "df_in_out['월'] = pd.to_datetime(df_in_out['기준연월'],format='%Y/%m').dt.strftime('%m')\n",
    "df_in_out"
   ]
  },
  {
   "cell_type": "code",
   "execution_count": 47,
   "metadata": {},
   "outputs": [],
   "source": [
    "df_in_out_2021 = df_in_out.loc[df_in_out['연도']=='2021']\n",
    "df_in_out_2022 = df_in_out.loc[df_in_out['연도']=='2022']\n",
    "df_in_out_2023 = df_in_out.loc[df_in_out['연도']=='2023']"
   ]
  },
  {
   "cell_type": "code",
   "execution_count": 48,
   "metadata": {},
   "outputs": [],
   "source": [
    "df_in_out_2021.to_excel('../Result/700. 지역균형발전 기여 분석/유입인구 상주인구_2021년.xlsx',index=False)\n",
    "df_in_out_2022.to_excel('../Result/700. 지역균형발전 기여 분석/유입인구 상주인구_2022년.xlsx',index=False)\n",
    "df_in_out_2023.to_excel('../Result/700. 지역균형발전 기여 분석/유입인구 상주인구_2023년.xlsx',index=False)"
   ]
  },
  {
   "cell_type": "markdown",
   "metadata": {},
   "source": [
    "확인 해보니 발행만 받은 사용자들의 지역외 사용 비중이 가장 높게 형성되어 발행만 받은 데이터만 추출하여 현황분석 수행"
   ]
  },
  {
   "cell_type": "markdown",
   "metadata": {},
   "source": [
    "발행만 받은 데이터 추출"
   ]
  },
  {
   "cell_type": "code",
   "execution_count": 56,
   "metadata": {},
   "outputs": [],
   "source": [
    "df_in_out_new = df_in_out.loc[(df_in_out['충전 구분']=='발행만') & ((df_in_out['연도']=='2022') | (df_in_out['연도']=='2023'))]"
   ]
  },
  {
   "cell_type": "code",
   "execution_count": 58,
   "metadata": {},
   "outputs": [],
   "source": [
    "df_in_out_new = df_in_out_new.loc[df_in_out_new['대분류']!='기타']"
   ]
  },
  {
   "cell_type": "code",
   "execution_count": 59,
   "metadata": {},
   "outputs": [],
   "source": [
    "분석행정동 = ['부여읍','규암면','홍산면']"
   ]
  },
  {
   "cell_type": "code",
   "execution_count": null,
   "metadata": {},
   "outputs": [],
   "source": [
    "df_in_out_new.loc[(~df_in_out_new['읍/면'].isin(분석행정동)),'읍/면'] = '기타'\n",
    "df_in_out_new.loc[(~df_in_out_new['가맹점 주소'].isin(분석행정동)),'가맹점 주소'] = '기타'\n",
    "df_in_out_new"
   ]
  },
  {
   "cell_type": "code",
   "execution_count": 63,
   "metadata": {},
   "outputs": [],
   "source": [
    "df_in_out_new.to_excel('../Result/700. 지역균형발전 기여 분석/2.1 지역균형발전기여(발행만).xlsx',index=False)"
   ]
  }
 ],
 "metadata": {
  "kernelspec": {
   "display_name": "pj_buyeo",
   "language": "python",
   "name": "python3"
  },
  "language_info": {
   "codemirror_mode": {
    "name": "ipython",
    "version": 3
   },
   "file_extension": ".py",
   "mimetype": "text/x-python",
   "name": "python",
   "nbconvert_exporter": "python",
   "pygments_lexer": "ipython3",
   "version": "3.11.0"
  }
 },
 "nbformat": 4,
 "nbformat_minor": 2
}
