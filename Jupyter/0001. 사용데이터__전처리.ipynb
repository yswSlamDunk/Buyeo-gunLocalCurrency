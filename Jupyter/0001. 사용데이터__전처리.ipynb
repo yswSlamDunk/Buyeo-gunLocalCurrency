{
 "cells": [
  {
   "cell_type": "code",
   "execution_count": 1,
   "metadata": {},
   "outputs": [],
   "source": [
    "import os\n",
    "import pandas as pd\n",
    "import numpy as np\n",
    "\n",
    "from tqdm import tqdm\n",
    "tqdm.pandas()\n",
    "\n",
    "import requests\n",
    "import re\n",
    "import pprint"
   ]
  },
  {
   "cell_type": "code",
   "execution_count": 2,
   "metadata": {},
   "outputs": [],
   "source": [
    "path = '../Data/Origin/사용자분석231204.csv'\n",
    "\n",
    "sales_df_origin = pd.read_csv(path)"
   ]
  },
  {
   "cell_type": "code",
   "execution_count": 3,
   "metadata": {},
   "outputs": [],
   "source": [
    "basic_column = ['사용자코드', '날짜', '요일', '성별', '나이', '사용자 주소', '가맹점 사업자 번호']\n",
    "\n",
    "sales_df_origin = sales_df_origin.loc[(sales_df_origin[basic_column].isnull().sum(axis = 1) == 0)]"
   ]
  },
  {
   "cell_type": "code",
   "execution_count": null,
   "metadata": {},
   "outputs": [],
   "source": []
  },
  {
   "cell_type": "markdown",
   "metadata": {},
   "source": [
    "## 사용자 거주지 \n",
    "\n",
    "### 과학기술정보통신부 우정사업본부_우편전용 우편번호조회\n",
    "    * https://www.data.go.kr/iim/api/selectAPIAcountView.do\n",
    "    * encoding key 목록\n",
    "        - 1\n",
    "            - d%2F2Eaf7qXnoQuZ7IwPJgXb92aDupDtGhVcLOmxffLcgDUC1wBD5afIWjgyxbjX8mKFcdWCOxOs%2BcngEAD6VYKA%3D%3D\n",
    "            - d/2Eaf7qXnoQuZ7IwPJgXb92aDupDtGhVcLOmxffLcgDUC1wBD5afIWjgyxbjX8mKFcdWCOxOs+cngEAD6VYKA==        \n",
    "        - 2\n",
    "            - VqP4mQZ6yioAjqQWW%2FCPhgNZoDqZQuuHjveTDowjznZPpKbmyJ5K5yXC9wZWEAwZ%2FeJzjt3c1YcZEnuBhuH7tw%3D%3D\n",
    "            - VqP4mQZ6yioAjqQWW/CPhgNZoDqZQuuHjveTDowjznZPpKbmyJ5K5yXC9wZWEAwZ/eJzjt3c1YcZEnuBhuH7tw==\n",
    "        - 3\n",
    "            - n47XHaApeo3Dyk2X4hO6MWiWHQMnmf12ZTED7q8xJ7ay1wBprvVxrwrsVze4z2xByi%2BhMMlFjhhR0wCeGIhHoA%3D%3D\n",
    "            - n47XHaApeo3Dyk2X4hO6MWiWHQMnmf12ZTED7q8xJ7ay1wBprvVxrwrsVze4z2xByi+hMMlFjhhR0wCeGIhHoA==\n",
    "        - 4\n",
    "            - TSqYg2F8pDOoqchgJroQsp8JA79EMvzyf85hyv8x4wiKohry%2Fo2mn4%2BRiCd4NuDTkdCClXAA9cUaVwzJooQWmA%3D%3D\n",
    "            - TSqYg2F8pDOoqchgJroQsp8JA79EMvzyf85hyv8x4wiKohry/o2mn4+RiCd4NuDTkdCClXAA9cUaVwzJooQWmA==\n",
    "        - 5\n",
    "            - NlYILeKCpotTBDOjX4LR%2FrmNmpYhQUba6ooyS7xpN%2BIFkZWupwzA3sqDsV9B7alcPTI8h894IupP4BiOTzxR9A%3D%3D\n",
    "            - NlYILeKCpotTBDOjX4LR/rmNmpYhQUba6ooyS7xpN+IFkZWupwzA3sqDsV9B7alcPTI8h894IupP4BiOTzxR9A==\n",
    "        - 6\n",
    "            - F3carf84nddpXtSw%2BE4mLlrl4hdfroj8Z0y%2BrPhQrcyh8JsKIyvzAaoedGZT4NImmxeaSh2fU7rasxP1iSM2jg%3D%3D\n",
    "            - F3carf84nddpXtSw+E4mLlrl4hdfroj8Z0y+rPhQrcyh8JsKIyvzAaoedGZT4NImmxeaSh2fU7rasxP1iSM2jg==\n",
    "        - 7\n",
    "            - Xr1y2g7%2BJIW9%2F8j%2FCkNxKCCGWbyQCYp%2B%2FrjgGfS%2B8GHiRUbYodo363awRtffSc26LP3z%2BQLLZADqZQxO%2B2MLuQ%3D%3D\n",
    "            - Xr1y2g7+JIW9/8j/CkNxKCCGWbyQCYp+/rjgGfS+8GHiRUbYodo363awRtffSc26LP3z+QLLZADqZQxO+2MLuQ=="
   ]
  },
  {
   "cell_type": "code",
   "execution_count": 237,
   "metadata": {},
   "outputs": [],
   "source": [
    "pmj = 'VqP4mQZ6yioAjqQWW/CPhgNZoDqZQuuHjveTDowjznZPpKbmyJ5K5yXC9wZWEAwZ/eJzjt3c1YcZEnuBhuH7tw=='\n",
    "pyj = 'n47XHaApeo3Dyk2X4hO6MWiWHQMnmf12ZTED7q8xJ7ay1wBprvVxrwrsVze4z2xByi+hMMlFjhhR0wCeGIhHoA=='\n",
    "ksb = 'TSqYg2F8pDOoqchgJroQsp8JA79EMvzyf85hyv8x4wiKohry/o2mn4+RiCd4NuDTkdCClXAA9cUaVwzJooQWmA=='\n",
    "mjs = 'NlYILeKCpotTBDOjX4LR/rmNmpYhQUba6ooyS7xpN+IFkZWupwzA3sqDsV9B7alcPTI8h894IupP4BiOTzxR9A=='\n",
    "ysh = 'F3carf84nddpXtSw+E4mLlrl4hdfroj8Z0y+rPhQrcyh8JsKIyvzAaoedGZT4NImmxeaSh2fU7rasxP1iSM2jg=='\n",
    "ksh = 'Xr1y2g7+JIW9/8j/CkNxKCCGWbyQCYp+/rjgGfS+8GHiRUbYodo363awRtffSc26LP3z+QLLZADqZQxO+2MLuQ=='\n",
    "ysw = 'd/2Eaf7qXnoQuZ7IwPJgXb92aDupDtGhVcLOmxffLcgDUC1wBD5afIWjgyxbjX8mKFcdWCOxOs+cngEAD6VYKA=='"
   ]
  },
  {
   "cell_type": "code",
   "execution_count": 71,
   "metadata": {},
   "outputs": [],
   "source": [
    "people_df = sales_df_origin[['사용자코드', '사용자 주소', '시', '도']].drop_duplicates()\n",
    "people_df['우편번호'] = np.nan\n",
    "people_df['신규_사용자 주소'] = np.nan"
   ]
  },
  {
   "cell_type": "code",
   "execution_count": 238,
   "metadata": {},
   "outputs": [],
   "source": [
    "def zipNo_address(keyword, serviceKey):\n",
    "    keyword = re.sub('\\([\\w\\W\\S\\s\\d]*\\)', '', keyword)\n",
    "    keyword = keyword.replace(',', ' ').replace('  ', ' ')\n",
    "    keyword = re.sub(' [-\\da-zA-Z]*동', '', keyword)\n",
    "    keyword = re.sub(' [-\\d]*호', '', keyword)\n",
    "    \n",
    "    url = \"http://openapi.epost.go.kr/postal/retrieveNewZipCdService/retrieveNewZipCdService/getNewZipCdList\"\n",
    "    params = {'serviceKey' : serviceKey,\n",
    "              'srchwrd' : keyword,\n",
    "              'countPerPage' : '10', \n",
    "              'currentPage' : '1'}\n",
    "    response = requests.get(url, params = params)\n",
    "    if response.ok != True:\n",
    "        print('error :', keyword)\n",
    "        return 'error', 'error'\n",
    "    try:\n",
    "        compile_address = re.compile('<address>[0-9\\s\\S\\w\\W]*</address>')\n",
    "        address = compile_address.search(response.text)[0]\n",
    "        address = address.replace('<address>', '').replace('</address>', '')\n",
    "\n",
    "        compile_zipNo = re.compile('<zipNo>[0-9]*</zipNo>')\n",
    "        zipNo = compile_zipNo.search(response.text)[0]\n",
    "        zipNo = zipNo.replace('<zipNo>', '').replace('</zipNo>', '')\n",
    "    except:\n",
    "        return 'error', 'error'\n",
    "    return address, zipNo"
   ]
  },
  {
   "cell_type": "code",
   "execution_count": 200,
   "metadata": {},
   "outputs": [
    {
     "data": {
      "text/plain": [
       "array(['충남', nan, '충청남도', '경기', '강원특별자치도', '충북', '전북', '경북', '서울', '전남',\n",
       "       '광주', '대전', '강원', '경남', '인천', '세종특별자치시', '경기도', '제주특별자치도', '부산'],\n",
       "      dtype=object)"
      ]
     },
     "execution_count": 200,
     "metadata": {},
     "output_type": "execute_result"
    }
   ],
   "source": [
    "people_df['도'].unique()"
   ]
  },
  {
   "cell_type": "code",
   "execution_count": 239,
   "metadata": {},
   "outputs": [
    {
     "name": "stderr",
     "output_type": "stream",
     "text": [
      "100%|██████████| 3198/3198 [06:32<00:00,  8.14it/s]\n",
      "C:\\Users\\WESLEYQUEST\\AppData\\Local\\Temp\\ipykernel_18560\\103767058.py:33: SettingWithCopyWarning: \n",
      "A value is trying to be set on a copy of a slice from a DataFrame.\n",
      "Try using .loc[row_indexer,col_indexer] = value instead\n",
      "\n",
      "See the caveats in the documentation: https://pandas.pydata.org/pandas-docs/stable/user_guide/indexing.html#returning-a-view-versus-a-copy\n",
      "  tmp_df[['신규_사용자 주소', '우편번호']] = tmp_df.progress_apply(lambda x : zipNo_address(x['사용자 주소'], serviceKey), axis = 1, result_type = 'expand')\n"
     ]
    }
   ],
   "source": [
    "# tmp_df = people_df.iloc[:10000]\n",
    "# serviceKey = pmj\n",
    "# tmp_df[['신규_사용자 주소', '우편번호']] = tmp_df.progress_apply(lambda x : zipNo_address(x['사용자 주소'], serviceKey), axis = 1, result_type = 'expand')\n",
    "# tmp_df.to_csv('../Data/Origin/사용자주소.csv', encoding = 'utf-8-sig', index = False)\n",
    "\n",
    "# tmp_df = people_df.iloc[10000 : 20000]\n",
    "# serviceKey = ksh\n",
    "# tmp_df[['신규_사용자 주소', '우편번호']] = tmp_df.progress_apply(lambda x : zipNo_address(x['사용자 주소'], serviceKey), axis = 1, result_type = 'expand')\n",
    "# tmp_df.to_csv('../Data/Origin/사용자주소.csv', encoding = 'utf-8-sig', index = False, header = None, mode = 'a')\n",
    "\n",
    "# tmp_df = people_df.iloc[20000 : 30000]\n",
    "# serviceKey = pyj\n",
    "# tmp_df[['신규_사용자 주소', '우편번호']] = tmp_df.progress_apply(lambda x : zipNo_address(x['사용자 주소'], serviceKey), axis = 1, result_type = 'expand')\n",
    "# tmp_df.to_csv('../Data/Origin/사용자주소.csv', encoding = 'utf-8-sig', index = False, header = None, mode = 'a')\n",
    "\n",
    "# tmp_df = people_df.iloc[30000 : 40000]\n",
    "# serviceKey = ksb\n",
    "# tmp_df[['신규_사용자 주소', '우편번호']] = tmp_df.progress_apply(lambda x : zipNo_address(x['사용자 주소'], serviceKey), axis = 1, result_type = 'expand')\n",
    "# tmp_df.to_csv('../Data/Origin/사용자주소.csv', encoding = 'utf-8-sig', index = False, header = None, mode = 'a')\n",
    "\n",
    "# tmp_df = people_df.iloc[40000 : 50000]\n",
    "# serviceKey = mjs\n",
    "# tmp_df[['신규_사용자 주소', '우편번호']] = tmp_df.progress_apply(lambda x : zipNo_address(x['사용자 주소'], serviceKey), axis = 1, result_type = 'expand')\n",
    "# tmp_df.to_csv('../Data/Origin/사용자주소.csv', encoding = 'utf-8-sig', index = False, header = None, mode = 'a')\n",
    "\n",
    "# tmp_df = people_df.iloc[50000 : 60000]\n",
    "# serviceKey = ysh\n",
    "# tmp_df[['신규_사용자 주소', '우편번호']] = tmp_df.progress_apply(lambda x : zipNo_address(x['사용자 주소'], serviceKey), axis = 1, result_type = 'expand')\n",
    "# tmp_df.to_csv('../Data/Origin/사용자주소.csv', encoding = 'utf-8-sig', index = False, header = None, mode = 'a')\n",
    "\n",
    "# tmp_df = people_df.iloc[60000 : ]\n",
    "# serviceKey = ysw\n",
    "# tmp_df[['신규_사용자 주소', '우편번호']] = tmp_df.progress_apply(lambda x : zipNo_address(x['사용자 주소'], serviceKey), axis = 1, result_type = 'expand')\n",
    "# tmp_df.to_csv('../Data/Origin/사용자주소.csv', encoding = 'utf-8-sig', index = False, header = None, mode = 'a')"
   ]
  },
  {
   "cell_type": "markdown",
   "metadata": {},
   "source": [
    "## 부여군 읍/면 전처리"
   ]
  },
  {
   "cell_type": "code",
   "execution_count": 28,
   "metadata": {},
   "outputs": [],
   "source": [
    "path = '../Data/Origin/사용자주소.csv'\n",
    "\n",
    "df_user_origin = pd.read_csv(path)\n",
    "df_user_origin['읍/면'] = np.nan"
   ]
  },
  {
   "cell_type": "code",
   "execution_count": 29,
   "metadata": {},
   "outputs": [],
   "source": [
    "city_list = sorted([city if pd.isnull(city) == False else 'null' for city in df_user_origin['시'].unique()])"
   ]
  },
  {
   "cell_type": "code",
   "execution_count": 30,
   "metadata": {},
   "outputs": [
    {
     "name": "stderr",
     "output_type": "stream",
     "text": [
      "C:\\Users\\WESLEYQUEST\\AppData\\Local\\Temp\\ipykernel_21784\\494669413.py:10: FutureWarning: Setting an item of incompatible dtype is deprecated and will raise in a future error of pandas. Value '['부여읍' '부여읍' '장암면' ... '규암면' '남면' '홍산면']' has dtype incompatible with float64, please explicitly cast to a compatible dtype first.\n",
      "  df_user_origin.loc[(df_user_origin['시'] == '부여군'), '읍/면'] = df_user_origin.loc[(df_user_origin['시'] == '부여군'), '사용자 주소'].apply(lambda x : findTown(x, town_list))\n"
     ]
    }
   ],
   "source": [
    "town_list = ['부여읍', '규암면', '은산면', '외산면', '내산면', '구룡면', '홍산면', '옥산면', '남면', '충화면', '양화면', '임천면', '장암면', '세도면', '석성면', '초촌면']\n",
    "\n",
    "def findTown(x, town_list):\n",
    "    for town in town_list:\n",
    "        if town in x:\n",
    "            return town\n",
    "    \n",
    "    return 'town 없음'\n",
    "\n",
    "df_user_origin.loc[(df_user_origin['시'] == '부여군'), '읍/면'] = df_user_origin.loc[(df_user_origin['시'] == '부여군'), '사용자 주소'].apply(lambda x : findTown(x, town_list))"
   ]
  },
  {
   "cell_type": "code",
   "execution_count": 31,
   "metadata": {},
   "outputs": [
    {
     "name": "stdout",
     "output_type": "stream",
     "text": [
      "3232\n",
      "154\n"
     ]
    }
   ],
   "source": [
    "condition01 = (df_user_origin['읍/면'] == 'town 없음')\n",
    "\n",
    "print(len(df_user_origin.loc[condition01]))\n",
    "\n",
    "df_user_origin.loc[condition01, '읍/면'] = df_user_origin.loc[condition01, '신규_사용자 주소'].apply(lambda x : findTown(x, town_list))\n",
    "\n",
    "condition01 = (df_user_origin['읍/면'] == 'town 없음')\n",
    "\n",
    "print(len(df_user_origin.loc[condition01]))"
   ]
  },
  {
   "cell_type": "markdown",
   "metadata": {},
   "source": [
    "### 부여군 외 전처리"
   ]
  },
  {
   "cell_type": "code",
   "execution_count": 33,
   "metadata": {},
   "outputs": [],
   "source": [
    "# condition02 = (df_user_origin['시'] != '부여군') & (df_user_origin['시'].isnull() == True)\n",
    "condition02 = (df_user_origin['시'] != '부여군') | (df_user_origin['시'].isnull() == True)\n",
    "\n",
    "df_user_origin.loc[condition02 & (df_user_origin['사용자 주소'].str.contains('충남')), '도'] = '충남'\n",
    "df_user_origin.loc[(df_user_origin['도'] == '충남') & (df_user_origin['시'].isnull() == True) & (df_user_origin['사용자 주소'].str.contains('부여군')), '시'] = '부여군'\n",
    "df_user_origin.loc[(df_user_origin['시'] == '부여군') & (df_user_origin['읍/면'].isnull() == True), '읍/면'] = df_user_origin.loc[(df_user_origin['시'] == '부여군') & (df_user_origin['읍/면'].isnull() == True), '사용자 주소'].apply(lambda x : findTown(x, town_list))"
   ]
  },
  {
   "cell_type": "code",
   "execution_count": 34,
   "metadata": {},
   "outputs": [],
   "source": [
    "condition03 = (df_user_origin['시'].isnull() == True)\n",
    "\n",
    "df_user_origin.loc[condition03 & (df_user_origin['신규_사용자 주소'].str.contains('부여군')), '시'] = '부여군'\n",
    "df_user_origin.loc[(df_user_origin['시'] == '부여군') & (df_user_origin['읍/면'].isnull() == True), '읍/면'] = df_user_origin.loc[(df_user_origin['시'] == '부여군') & (df_user_origin['읍/면'].isnull() == True), '신규_사용자 주소'].apply(lambda x : findTown(x, town_list))"
   ]
  },
  {
   "cell_type": "code",
   "execution_count": 35,
   "metadata": {},
   "outputs": [
    {
     "data": {
      "text/html": [
       "<div>\n",
       "<style scoped>\n",
       "    .dataframe tbody tr th:only-of-type {\n",
       "        vertical-align: middle;\n",
       "    }\n",
       "\n",
       "    .dataframe tbody tr th {\n",
       "        vertical-align: top;\n",
       "    }\n",
       "\n",
       "    .dataframe thead th {\n",
       "        text-align: right;\n",
       "    }\n",
       "</style>\n",
       "<table border=\"1\" class=\"dataframe\">\n",
       "  <thead>\n",
       "    <tr style=\"text-align: right;\">\n",
       "      <th></th>\n",
       "      <th>사용자코드</th>\n",
       "      <th>사용자 주소</th>\n",
       "      <th>시</th>\n",
       "      <th>도</th>\n",
       "      <th>우편번호</th>\n",
       "      <th>신규_사용자 주소</th>\n",
       "      <th>읍/면</th>\n",
       "    </tr>\n",
       "  </thead>\n",
       "  <tbody>\n",
       "  </tbody>\n",
       "</table>\n",
       "</div>"
      ],
      "text/plain": [
       "Empty DataFrame\n",
       "Columns: [사용자코드, 사용자 주소, 시, 도, 우편번호, 신규_사용자 주소, 읍/면]\n",
       "Index: []"
      ]
     },
     "execution_count": 35,
     "metadata": {},
     "output_type": "execute_result"
    }
   ],
   "source": [
    "df_user_origin.loc[(df_user_origin['시'] == '부여군') & (df_user_origin['읍/면'].isnull() == True)]"
   ]
  },
  {
   "cell_type": "code",
   "execution_count": null,
   "metadata": {},
   "outputs": [],
   "source": [
    "# df_user_origin.to_csv('../Data/Preprocessed/사용자주소.csv', index = False, encoding = 'utf-8-sig')"
   ]
  },
  {
   "cell_type": "markdown",
   "metadata": {},
   "source": [
    "## 사용데이터 수작업 내용 병합"
   ]
  },
  {
   "cell_type": "code",
   "execution_count": 53,
   "metadata": {},
   "outputs": [],
   "source": [
    "path = '../Data/Origin/사용자주소수정용.xlsx'\n",
    "\n",
    "df_emend_user_origin = pd.read_excel(path)\n",
    "df_user_origin = pd.read_csv('../Data/Preprocessed/사용자주소.csv')\n",
    "\n",
    "df_user_origin = df_user_origin.loc[~(df_user_origin['사용자코드'].isin(df_emend_user_origin['사용자코드']))]\n",
    "df_user_origin = pd.concat([df_user_origin, df_emend_user_origin], axis = 0, ignore_index = True)\n",
    "df_user_origin = df_user_origin.loc[(df_user_origin['시'] != '삭제')]"
   ]
  },
  {
   "cell_type": "code",
   "execution_count": 57,
   "metadata": {},
   "outputs": [
    {
     "data": {
      "text/html": [
       "<div>\n",
       "<style scoped>\n",
       "    .dataframe tbody tr th:only-of-type {\n",
       "        vertical-align: middle;\n",
       "    }\n",
       "\n",
       "    .dataframe tbody tr th {\n",
       "        vertical-align: top;\n",
       "    }\n",
       "\n",
       "    .dataframe thead th {\n",
       "        text-align: right;\n",
       "    }\n",
       "</style>\n",
       "<table border=\"1\" class=\"dataframe\">\n",
       "  <thead>\n",
       "    <tr style=\"text-align: right;\">\n",
       "      <th></th>\n",
       "      <th>사용자코드</th>\n",
       "      <th>사용자 주소</th>\n",
       "      <th>시</th>\n",
       "      <th>도</th>\n",
       "      <th>우편번호</th>\n",
       "      <th>신규_사용자 주소</th>\n",
       "      <th>읍/면</th>\n",
       "    </tr>\n",
       "  </thead>\n",
       "  <tbody>\n",
       "  </tbody>\n",
       "</table>\n",
       "</div>"
      ],
      "text/plain": [
       "Empty DataFrame\n",
       "Columns: [사용자코드, 사용자 주소, 시, 도, 우편번호, 신규_사용자 주소, 읍/면]\n",
       "Index: []"
      ]
     },
     "execution_count": 57,
     "metadata": {},
     "output_type": "execute_result"
    }
   ],
   "source": [
    "df_user_origin.loc[(df_user_origin['시'].isnull() == True)]"
   ]
  },
  {
   "cell_type": "code",
   "execution_count": 59,
   "metadata": {},
   "outputs": [
    {
     "data": {
      "text/html": [
       "<div>\n",
       "<style scoped>\n",
       "    .dataframe tbody tr th:only-of-type {\n",
       "        vertical-align: middle;\n",
       "    }\n",
       "\n",
       "    .dataframe tbody tr th {\n",
       "        vertical-align: top;\n",
       "    }\n",
       "\n",
       "    .dataframe thead th {\n",
       "        text-align: right;\n",
       "    }\n",
       "</style>\n",
       "<table border=\"1\" class=\"dataframe\">\n",
       "  <thead>\n",
       "    <tr style=\"text-align: right;\">\n",
       "      <th></th>\n",
       "      <th>사용자코드</th>\n",
       "      <th>사용자 주소</th>\n",
       "      <th>시</th>\n",
       "      <th>도</th>\n",
       "      <th>우편번호</th>\n",
       "      <th>신규_사용자 주소</th>\n",
       "      <th>읍/면</th>\n",
       "    </tr>\n",
       "  </thead>\n",
       "  <tbody>\n",
       "  </tbody>\n",
       "</table>\n",
       "</div>"
      ],
      "text/plain": [
       "Empty DataFrame\n",
       "Columns: [사용자코드, 사용자 주소, 시, 도, 우편번호, 신규_사용자 주소, 읍/면]\n",
       "Index: []"
      ]
     },
     "execution_count": 59,
     "metadata": {},
     "output_type": "execute_result"
    }
   ],
   "source": [
    "df_user_origin.loc[(df_user_origin['시'] == '부여군') & (df_user_origin['읍/면'].isnull() == True)]"
   ]
  },
  {
   "cell_type": "code",
   "execution_count": 60,
   "metadata": {},
   "outputs": [
    {
     "data": {
      "text/html": [
       "<div>\n",
       "<style scoped>\n",
       "    .dataframe tbody tr th:only-of-type {\n",
       "        vertical-align: middle;\n",
       "    }\n",
       "\n",
       "    .dataframe tbody tr th {\n",
       "        vertical-align: top;\n",
       "    }\n",
       "\n",
       "    .dataframe thead th {\n",
       "        text-align: right;\n",
       "    }\n",
       "</style>\n",
       "<table border=\"1\" class=\"dataframe\">\n",
       "  <thead>\n",
       "    <tr style=\"text-align: right;\">\n",
       "      <th></th>\n",
       "      <th>사용자코드</th>\n",
       "      <th>사용자 주소</th>\n",
       "      <th>시</th>\n",
       "      <th>도</th>\n",
       "      <th>우편번호</th>\n",
       "      <th>신규_사용자 주소</th>\n",
       "      <th>읍/면</th>\n",
       "    </tr>\n",
       "  </thead>\n",
       "  <tbody>\n",
       "  </tbody>\n",
       "</table>\n",
       "</div>"
      ],
      "text/plain": [
       "Empty DataFrame\n",
       "Columns: [사용자코드, 사용자 주소, 시, 도, 우편번호, 신규_사용자 주소, 읍/면]\n",
       "Index: []"
      ]
     },
     "execution_count": 60,
     "metadata": {},
     "output_type": "execute_result"
    }
   ],
   "source": [
    "df_user_origin.loc[(df_user_origin['시'] != '부여군') & (df_user_origin['읍/면'].isnull() != True)]"
   ]
  },
  {
   "cell_type": "code",
   "execution_count": 76,
   "metadata": {},
   "outputs": [],
   "source": [
    "tmp_list = ['강남구', '서초구', '광산구', '동구', '서구', '중구',  \n",
    "            '영등포구', '송파구', '강북구', '유성구', '동작구']\n",
    "\n",
    "replace_city = {'청주시 흥덕구' : '청주시',\n",
    "                '세종특별자치시' : '세종',\n",
    "                '천안시 동남구' : '천안시',\n",
    "                '천안시 서북구' : '천안시',\n",
    "                '안산시 상록구' : '안산시',\n",
    "                '창원시 의창구' : '창원시',\n",
    "                '안양시 만안구' : '안양시',\n",
    "                '청주시 청원구' : '청주시',\n",
    "                '계룡' : '계룡시',\n",
    "                '서천' : '서천군',\n",
    "                '논산' : '논산시',\n",
    "                '천안' : '천안시',\n",
    "                '공주' : '공주시',\n",
    "                '안산' : '안산시'\n",
    "                }\n",
    "\n",
    "df_user_origin['시'] = df_user_origin['시'].apply(lambda x : replace_city[x] if x in replace_city.keys() else x)\n",
    "df_user_origin.loc[(df_user_origin['시'].isin(tmp_list)), '시'] = df_user_origin.loc[(df_user_origin['시'].isin(tmp_list)), '도']"
   ]
  },
  {
   "cell_type": "code",
   "execution_count": 77,
   "metadata": {},
   "outputs": [
    {
     "data": {
      "text/plain": [
       "array(['대전', '논산시', '청양군', '공주시', '수원시', '홍천군', '포천시', '서울', '광주', '화성시',\n",
       "       '인천', '청주시', '김제시', '세종', '안산시', '경산시', '대구', '서천군', '익산시', '성남시',\n",
       "       '서산시', '보령시', '군포시', '군산시', '홍성군', '계룡시', '정읍시', '천안시', '오산시',\n",
       "       '아산시', '속초시', '울산', '평택시', '용인시', '안성시', '광명시', '남양주시', '전주시',\n",
       "       '당진시', '남원시', '통영시', '원주시', '시흥시', '영동군', '김포시', '제천시', '여수시',\n",
       "       '고양시', '하남시', '부산', '정선군', '금산군', '의정부시', '세종시', '옥천군', '과천시',\n",
       "       '사천시', '구리시', '음성군', '여주시', '의왕시', '창원시', '나주시', '예천군', '양주시',\n",
       "       '안양시', '완주군', '울릉군', '예산군', '임실군', '태안군', '안동시', '목포시', '영주시',\n",
       "       '양산시', '거제시', '부안군', '김해시', '진천군', '보은군', '부천시', '밀양시', '이천시',\n",
       "       '제주시', '광주시', '강릉시', '영암군', '파주시', '고흥군', '포항시', '함안군', '진주시',\n",
       "       '산청군', '거창군', '고창군', '동두천시', '화천군', '무안군', '해남군', '구미시', '성주군',\n",
       "       '춘천시', '양평군', '달성군', '무주군', '강동구', '상주시', '옹진군', '양구군', '경주시',\n",
       "       '영광군', '서귀포시', '순창군', '기장군', '장흥군', '평창군', '동해시', '순천시', '함양군',\n",
       "       '태백시', '증평군', '광양시', '강화군', '단양군', '사하구', '충주시', '울주군', '담양군'],\n",
       "      dtype=object)"
      ]
     },
     "execution_count": 77,
     "metadata": {},
     "output_type": "execute_result"
    }
   ],
   "source": [
    "df_user_origin.loc[(df_user_origin['시'] != '부여군'), '시'].unique()"
   ]
  },
  {
   "cell_type": "code",
   "execution_count": 78,
   "metadata": {},
   "outputs": [
    {
     "data": {
      "text/plain": [
       "array(['부여읍', '장암면', '규암면', '은산면', '초촌면', '외산면', '구룡면', '남면', '내산면',\n",
       "       '석성면', '홍산면', '옥산면', '양화면', '임천면', '충화면', '세도면'], dtype=object)"
      ]
     },
     "execution_count": 78,
     "metadata": {},
     "output_type": "execute_result"
    }
   ],
   "source": [
    "df_user_origin.loc[(df_user_origin['시'] == '부여군'), '읍/면'].unique()"
   ]
  },
  {
   "cell_type": "code",
   "execution_count": 84,
   "metadata": {},
   "outputs": [
    {
     "data": {
      "text/plain": [
       "array([], dtype=object)"
      ]
     },
     "execution_count": 84,
     "metadata": {},
     "output_type": "execute_result"
    }
   ],
   "source": [
    "df_user_origin.loc[(df_user_origin['도'].isnull() == True), '시'].unique()"
   ]
  },
  {
   "cell_type": "code",
   "execution_count": 83,
   "metadata": {},
   "outputs": [],
   "source": [
    "replace_state_null = {'논산시' : '충남',\n",
    "                      '용인시' : '경기',\n",
    "                      '부여군' : '충남',\n",
    "                      '세종시' : '세종',\n",
    "                      '달성군' : '대구',\n",
    "                      '서울' : '서울',\n",
    "                      '대전' : '대전',\n",
    "                      '광주' : '광주',\n",
    "                      '인천' : '인천',\n",
    "                      '세종' : '세종',\n",
    "                      '울산' : '울산',\n",
    "                      '부산' : '부산',\n",
    "                      '옹진군' : '인천',\n",
    "                      '양구군' : '강원',\n",
    "                      '기장군' : '부산',\n",
    "                      '평창군' : '강원',\n",
    "                      '속초시' : '강원',\n",
    "                      '태백시' : '강원',\n",
    "                      '춘천시' : '춘천',\n",
    "                      '강화군' : '인천',\n",
    "                      '울주군' : '울산'}\n",
    "    \n",
    "\n",
    "df_user_origin.loc[(df_user_origin['도'].isnull() == True), '도'] = df_user_origin.loc[(df_user_origin['도'].isnull() == True), '시'].apply(lambda x : replace_state_null[x] if x in replace_state_null.keys() else x)"
   ]
  },
  {
   "cell_type": "code",
   "execution_count": 88,
   "metadata": {},
   "outputs": [
    {
     "data": {
      "text/plain": [
       "array(['충남', '대전', '경기', '강원', '서울', '광주', '인천', '충북', '전북', '세종', '경북',\n",
       "       '대구', '전남', '울산', '경남', '부산', '제주'], dtype=object)"
      ]
     },
     "execution_count": 88,
     "metadata": {},
     "output_type": "execute_result"
    }
   ],
   "source": [
    "df_user_origin['도'].unique()"
   ]
  },
  {
   "cell_type": "code",
   "execution_count": 87,
   "metadata": {},
   "outputs": [],
   "source": [
    "replace_state = {'충청남도' : '충남', \n",
    "                '강원특별자치도' : '강원', \n",
    "                '제주특별자치도' : '제주',\n",
    "                '춘천' : '강원',\n",
    "                '경기도' : '경기'\n",
    "                }\n",
    "\n",
    "df_user_origin['도'] = df_user_origin['도'].apply(lambda x : replace_state[x] if x in replace_state.keys() else x)"
   ]
  },
  {
   "cell_type": "code",
   "execution_count": 85,
   "metadata": {},
   "outputs": [
    {
     "data": {
      "text/plain": [
       "array(['부여군', '대전', '논산시', '청양군', '공주시', '수원시', '홍천군', '포천시', '서울', '광주',\n",
       "       '화성시', '인천', '청주시', '김제시', '세종', '안산시', '경산시', '대구', '서천군', '익산시',\n",
       "       '성남시', '서산시', '보령시', '군포시', '군산시', '홍성군', '계룡시', '정읍시', '천안시',\n",
       "       '오산시', '아산시', '속초시', '울산', '평택시', '용인시', '안성시', '광명시', '남양주시',\n",
       "       '전주시', '당진시', '남원시', '통영시', '원주시', '시흥시', '영동군', '김포시', '제천시',\n",
       "       '여수시', '고양시', '하남시', '부산', '정선군', '금산군', '의정부시', '세종시', '옥천군',\n",
       "       '과천시', '사천시', '구리시', '음성군', '여주시', '의왕시', '창원시', '나주시', '예천군',\n",
       "       '양주시', '안양시', '완주군', '울릉군', '예산군', '임실군', '태안군', '안동시', '목포시',\n",
       "       '영주시', '양산시', '거제시', '부안군', '김해시', '진천군', '보은군', '부천시', '밀양시',\n",
       "       '이천시', '제주시', '광주시', '강릉시', '영암군', '파주시', '고흥군', '포항시', '함안군',\n",
       "       '진주시', '산청군', '거창군', '고창군', '동두천시', '화천군', '무안군', '해남군', '구미시',\n",
       "       '성주군', '춘천시', '양평군', '달성군', '무주군', '강동구', '상주시', '옹진군', '양구군',\n",
       "       '경주시', '영광군', '서귀포시', '순창군', '기장군', '장흥군', '평창군', '동해시', '순천시',\n",
       "       '함양군', '태백시', '증평군', '광양시', '강화군', '단양군', '사하구', '충주시', '울주군',\n",
       "       '담양군'], dtype=object)"
      ]
     },
     "execution_count": 85,
     "metadata": {},
     "output_type": "execute_result"
    }
   ],
   "source": [
    "df_user_origin['시'].unique()"
   ]
  },
  {
   "cell_type": "code",
   "execution_count": null,
   "metadata": {},
   "outputs": [],
   "source": [
    "sales_df_origin = sales_df_origin.drop(columns = ['시', '도'])\n",
    "\n",
    "sales_df_origin = sales_df_origin.merge(df_user_origin[['사용자코드', '시', '도', '읍/면']], how = 'right')"
   ]
  },
  {
   "cell_type": "code",
   "execution_count": 17,
   "metadata": {},
   "outputs": [],
   "source": [
    "# 병합\n",
    "path = '../Data/Preprocessed/사용자분석.csv'\n",
    "sales_df_origin = pd.read_csv(path)\n",
    "\n",
    "path = '../Data/Origin/가맹점분류(대분류위주 분석)_231118.xlsx'\n",
    "\n",
    "df_franchise = pd.read_excel(path)\n",
    "df_franchise = df_franchise.rename(columns = {'사업자번호' : '가맹점 사업자 번호'})"
   ]
  },
  {
   "cell_type": "code",
   "execution_count": 25,
   "metadata": {},
   "outputs": [
    {
     "name": "stdout",
     "output_type": "stream",
     "text": [
      "10569620\n",
      "10569620\n"
     ]
    }
   ],
   "source": [
    "sales_df_origin = sales_df_origin[['사용자코드', '연도', '분기', '월', '날짜', '요일', '시간대명', '성별', '연령대', '나이', '사용자 주소', '가맹점 사업자 번호', '가맹점 사업자 업종', '사용금액', '시', '도', '읍/면']]\n",
    "sales_df_origin = sales_df_origin.merge(df_franchise, on = '가맹점 사업자 번호', how = 'left')"
   ]
  },
  {
   "cell_type": "code",
   "execution_count": 29,
   "metadata": {},
   "outputs": [],
   "source": [
    "# sales_df_origin.to_csv('../Data/Preprocessed/사용자분석.csv', index = False, encoding = 'utf-8-sig', escapechar = '\\\\')"
   ]
  },
  {
   "cell_type": "code",
   "execution_count": null,
   "metadata": {},
   "outputs": [],
   "source": []
  },
  {
   "cell_type": "code",
   "execution_count": 2,
   "metadata": {},
   "outputs": [],
   "source": [
    "# 가맹점 주소 전처리\n",
    "sales_df_origin = pd.read_csv('../Data/Preprocessed/사용자분석.csv')"
   ]
  },
  {
   "cell_type": "code",
   "execution_count": 4,
   "metadata": {},
   "outputs": [
    {
     "data": {
      "text/plain": [
       "Index(['사용자코드', '연도', '분기', '월', '날짜', '요일', '시간대명', '성별', '연령대', '나이',\n",
       "       '사용자 주소', '가맹점 사업자 번호', '가맹점 사업자 업종', '사용금액', '시', '도', '읍/면', '가맹점명',\n",
       "       '골목상권분류', '대분류', '중분류', '소분류', '가맹점 주소', '가맹가입일자'],\n",
       "      dtype='object')"
      ]
     },
     "execution_count": 4,
     "metadata": {},
     "output_type": "execute_result"
    }
   ],
   "source": [
    "sales_df_origin.columns"
   ]
  },
  {
   "cell_type": "code",
   "execution_count": 5,
   "metadata": {},
   "outputs": [
    {
     "name": "stdout",
     "output_type": "stream",
     "text": [
      "16\n",
      "16\n"
     ]
    }
   ],
   "source": [
    "가맹점_오류 = ['천호대로', '능동로', '신당2길', '백일헌로']\n",
    "sales_df_origin[sales_df_origin['가맹점 주소'].isin(가맹점_오류)]\n",
    "#94개 제거 대상\n",
    "\n",
    "sales_df_origin = sales_df_origin[~sales_df_origin['가맹점 주소'].isin(가맹점_오류)]\n",
    "#가맹점 주소 오류인 데이터 삭제 코드\n",
    "\n",
    "#가맹점 주소 대체 List\n",
    "부여읍 = ['성왕로173번길', '정림로', '부여로', '중앙로13번길', '중앙로', '사비로72번길', '사비로', '사비로100번길', '석탑로', '성왕로328번길', '중앙로5번길','성왕로','신기정로','궁남로', '중앙로5번길', '부장대로', '흑천로', '왕릉로', '신동엽길', '성왕로161번길']\n",
    "구룡면 = ['충의로', '흥수로']\n",
    "규암면 = ['자온로', '수북로41번길', '백제문로304번길', '규아면', '반산1구', '수북로', '충절로2123번길','충절로']\n",
    "임천면 = ['성흥로', '성흥로97번길']\n",
    "장암면 = ['의자로1235번길', '의자로', '장암로']\n",
    "석성면 = ['선사로']\n",
    "홍산면 = ['홍산시장로']\n",
    "양화면 = ['입포로48번길']\n",
    "\n",
    "#가맹점 주소 대체 데이터 대체 완료 코드\n",
    "sales_df_origin.loc[(sales_df_origin['가맹점 주소'].isin(부여읍)),['가맹점 주소']] = '부여읍'\n",
    "sales_df_origin.loc[(sales_df_origin['가맹점 주소'].isin(구룡면)),['가맹점 주소']] = '구룡면'\n",
    "sales_df_origin.loc[(sales_df_origin['가맹점 주소'].isin(규암면)),['가맹점 주소']] = '규암면'\n",
    "sales_df_origin.loc[(sales_df_origin['가맹점 주소'].isin(임천면)),['가맹점 주소']] = '임천면'\n",
    "sales_df_origin.loc[(sales_df_origin['가맹점 주소'].isin(장암면)),['가맹점 주소']] = '장암면'\n",
    "sales_df_origin.loc[(sales_df_origin['가맹점 주소'].isin(석성면)),['가맹점 주소']] = '석성면'\n",
    "sales_df_origin.loc[(sales_df_origin['가맹점 주소'].isin(홍산면)),['가맹점 주소']] = '홍산면'\n",
    "sales_df_origin.loc[(sales_df_origin['가맹점 주소'].isin(양화면)),['가맹점 주소']] = '양화면'\n",
    "print(sales_df_origin['가맹점 주소'].nunique())\n",
    "\n",
    "#NA 데이터 삭제 코드\n",
    "sales_df_origin = sales_df_origin[~sales_df_origin['가맹점 주소'].isna()]\n",
    "print(sales_df_origin['가맹점 주소'].nunique())"
   ]
  },
  {
   "cell_type": "code",
   "execution_count": 6,
   "metadata": {},
   "outputs": [
    {
     "data": {
      "text/plain": [
       "array(['부여읍', '은산면', '규암면', '홍산면', '임천면', '외산면', '구룡면', '석성면', '내산면',\n",
       "       '세도면', '초촌면', '남면', '장암면', '양화면', '옥산면', '충화면'], dtype=object)"
      ]
     },
     "execution_count": 6,
     "metadata": {},
     "output_type": "execute_result"
    }
   ],
   "source": [
    "sales_df_origin['가맹점 주소'].unique()"
   ]
  },
  {
   "cell_type": "code",
   "execution_count": 7,
   "metadata": {},
   "outputs": [],
   "source": [
    "# sales_df_origin.to_csv('../Data/Preprocessed/사용자분석.csv', index = False, encoding = 'utf-8-sig', escapechar = '\\\\')"
   ]
  },
  {
   "cell_type": "markdown",
   "metadata": {},
   "source": [
    "# 부여군 사람 추가 작업"
   ]
  },
  {
   "cell_type": "code",
   "execution_count": 18,
   "metadata": {},
   "outputs": [],
   "source": [
    "path = '../Data/Preprocessed/사용자분석.csv'\n",
    "\n",
    "df_origin = pd.read_csv(path)"
   ]
  },
  {
   "cell_type": "code",
   "execution_count": null,
   "metadata": {},
   "outputs": [],
   "source": [
    "town_list = ['부여읍', '규암면', '은산면', '외산면', '내산면', '구룡면', '홍산면', '옥산면', '남면', '충화면', '양화면', '임천면', '장암면', '세도면', '석성면', '초촌면']\n",
    "\n",
    "for town in town_list:\n",
    "    df_origin.loc[(df_origin['사용자 주소'].str.contains(town)) & (df_origin['시'] != '부여군'), ['도', '시', '읍/면']] = ['충남', '부여군', town]\n",
    "    df_origin.loc[(df_origin['사용자코드'] == '김태수01075530769'), '도'] = '경기'\n",
    "\n",
    "# df_origin.to_csv('../Data/Preprocessed/사용자분석.csv', index = False, encoding = 'utf-8-sig', escapechar = '\\\\')"
   ]
  },
  {
   "cell_type": "code",
   "execution_count": null,
   "metadata": {},
   "outputs": [],
   "source": []
  },
  {
   "cell_type": "code",
   "execution_count": 19,
   "metadata": {},
   "outputs": [
    {
     "data": {
      "text/plain": [
       "1"
      ]
     },
     "execution_count": 19,
     "metadata": {},
     "output_type": "execute_result"
    }
   ],
   "source": [
    "df_origin.loc[(df_origin['사용자 주소'].str.contains('부여') & (df_origin['시'] != '부여군')), '사용자코드'].nunique()"
   ]
  }
 ],
 "metadata": {
  "kernelspec": {
   "display_name": "Buyeo-gunLocalCurrency",
   "language": "python",
   "name": "python3"
  },
  "language_info": {
   "codemirror_mode": {
    "name": "ipython",
    "version": 3
   },
   "file_extension": ".py",
   "mimetype": "text/x-python",
   "name": "python",
   "nbconvert_exporter": "python",
   "pygments_lexer": "ipython3",
   "version": "3.10.13"
  }
 },
 "nbformat": 4,
 "nbformat_minor": 2
}
